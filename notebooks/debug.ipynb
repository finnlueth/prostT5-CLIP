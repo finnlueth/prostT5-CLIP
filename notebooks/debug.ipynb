{
 "cells": [
  {
   "cell_type": "code",
   "execution_count": 1,
   "metadata": {},
   "outputs": [],
   "source": [
    "%reload_ext autoreload\n",
    "%autoreload 2\n",
    "\n",
    "from transformers import AutoTokenizer\n",
    "from datasets import Dataset, DatasetDict\n",
    "import torch\n",
    "from src.model.basic_model import ProtT5CLIP\n",
    "from src.model.data_collator import DataCollatorForProtT5CLIP\n",
    "import re\n",
    "import pandas as pd\n",
    "import numpy as np\n",
    "import os\n",
    "import gc\n",
    "\n",
    "from transformers import (\n",
    "    T5Tokenizer,\n",
    "    Trainer,\n",
    "    TrainingArguments,\n",
    ")\n",
    "\n",
    "from peft import (\n",
    "    LoraConfig,\n",
    "    get_peft_model,\n",
    ")"
   ]
  },
  {
   "cell_type": "code",
   "execution_count": 2,
   "metadata": {},
   "outputs": [
    {
     "name": "stderr",
     "output_type": "stream",
     "text": [
      "`flash-attention` package not found, consider installing for better performance: No module named 'flash_attn'.\n",
      "Current `flash-attention` does not support `window_size`. Either upgrade or use `attn_implementation='eager'`.\n"
     ]
    },
    {
     "data": {
      "application/vnd.jupyter.widget-view+json": {
       "model_id": "277a7b5d33b9401b8cf288334cd70672",
       "version_major": 2,
       "version_minor": 0
      },
      "text/plain": [
       "Loading checkpoint shards:   0%|          | 0/2 [00:00<?, ?it/s]"
      ]
     },
     "metadata": {},
     "output_type": "display_data"
    }
   ],
   "source": [
    "model_cfg = {\n",
    "    \"base_model_plm\": \"Rostlab/prot_t5_xl_uniref50\",\n",
    "    \"freeze_plm\": False,\n",
    "    \"base_model_llm\": \"microsoft/Phi-3.5-mini-instruct\",\n",
    "    \"freeze_llm\": False,\n",
    "}\n",
    "\n",
    "model = ProtT5CLIP(model_cfg)"
   ]
  },
  {
   "cell_type": "code",
   "execution_count": 3,
   "metadata": {},
   "outputs": [
    {
     "name": "stdout",
     "output_type": "stream",
     "text": [
      "trainable params: 8,388,608 || all params: 5,037,609,984 || trainable%: 0.1665\n"
     ]
    }
   ],
   "source": [
    "target_modules = []\n",
    "modules_to_save = []\n",
    "if not model_cfg[\"freeze_plm\"]:\n",
    "    target_modules += [\"q\", \"k\", \"v\", \"o\"]\n",
    "    modules_to_save = model.loading_info_plm[\"missing_keys\"]\n",
    "if not model_cfg[\"freeze_llm\"]:\n",
    "    target_modules += [\"k_proj\", \"q_proj\", \"v_proj\", \"o_proj\", \"gate_proj\", \"down_proj\", \"up_proj\"]\n",
    "    modules_to_save += model.loading_info_llm[\"missing_keys\"]\n",
    "\n",
    "lora_config = LoraConfig(\n",
    "    inference_mode=False,\n",
    "    r=8,\n",
    "    lora_alpha=16,\n",
    "    lora_dropout=0.05,\n",
    "    target_modules=target_modules,\n",
    "    bias=\"none\",\n",
    "    modules_to_save=modules_to_save,\n",
    "    # use_rslora=True,\n",
    "    # use_dora=True,\n",
    ")\n",
    "\n",
    "model = get_peft_model(model, lora_config)\n",
    "model.print_trainable_parameters()"
   ]
  },
  {
   "cell_type": "code",
   "execution_count": 4,
   "metadata": {},
   "outputs": [],
   "source": [
    "tokenizer_plm = T5Tokenizer.from_pretrained(\n",
    "    pretrained_model_name_or_path=model_cfg[\"base_model_plm\"],\n",
    "    do_lower_case=False,\n",
    "    use_fast=True,\n",
    "    legacy=False,\n",
    ")\n",
    "\n",
    "tokenizer_llm = AutoTokenizer.from_pretrained(\n",
    "    pretrained_model_name_or_path=model_cfg[\"base_model_llm\"],\n",
    ")"
   ]
  },
  {
   "cell_type": "code",
   "execution_count": 5,
   "metadata": {},
   "outputs": [
    {
     "data": {
      "application/vnd.jupyter.widget-view+json": {
       "model_id": "e1c2f23b1e8d459a8884d9cffac9f83b",
       "version_major": 2,
       "version_minor": 0
      },
      "text/plain": [
       "Map:   0%|          | 0/3000 [00:00<?, ? examples/s]"
      ]
     },
     "metadata": {},
     "output_type": "display_data"
    },
    {
     "name": "stdout",
     "output_type": "stream",
     "text": [
      "DatasetDict({\n",
      "    train: Dataset({\n",
      "        features: ['input_ids', 'attention_mask'],\n",
      "        num_rows: 3000\n",
      "    })\n",
      "    test: Dataset({\n",
      "        features: ['input_ids', 'attention_mask'],\n",
      "        num_rows: 3000\n",
      "    })\n",
      "})\n",
      "{'input_ids': {'sequence': [19, 4, 9, 6, 13, 6, 21, 12, 13, 12, 4, 3, 15, 3, 6, 5, 4, 5, 4, 5, 4, 4, 12, 13, 20, 4, 16, 14, 13, 15, 16, 8, 15, 13, 20, 4, 16, 14, 13, 15, 16, 8, 15, 1], 'text': [910, 26823, 338, 9701, 297, 3813, 10800, 8608, 29889]}, 'attention_mask': {'sequence': [1, 1, 1, 1, 1, 1, 1, 1, 1, 1, 1, 1, 1, 1, 1, 1, 1, 1, 1, 1, 1, 1, 1, 1, 1, 1, 1, 1, 1, 1, 1, 1, 1, 1, 1, 1, 1, 1, 1, 1, 1, 1, 1, 1], 'text': [1, 1, 1, 1, 1, 1, 1, 1, 1]}}\n"
     ]
    }
   ],
   "source": [
    "dataset = [\n",
    "    {\n",
    "        \"uid\": \"A001\",\n",
    "        \"sequence\": \"MLEVPVWIPILAFAVGLGLGLLIPHLQKPFQRFPHLQKPFQRF\",\n",
    "        \"text\": \"This protein is involved in membrane transport.\",\n",
    "    },\n",
    "    {\n",
    "        \"uid\": \"A002\",\n",
    "        \"sequence\": \"MSLEQKKGADIISKILQIQNSIGKTTSPSTLKTTSPSTLKT\",\n",
    "        \"text\": \"This enzyme catalyzes the hydrolysis of ATP.\",\n",
    "    },\n",
    "    {\n",
    "        \"uid\": \"A003\",\n",
    "        \"sequence\": \"MKMKQQGLVADLLPNIRVMKTFGHFVFNYYNDN\",\n",
    "        \"text\": \"This transcription factor regulates gene expression.\",\n",
    "    },\n",
    "] * 1000\n",
    "\n",
    "dataset = Dataset.from_list(dataset)\n",
    "dataset = dataset.add_column(\"sequence_original\", dataset[\"sequence\"])\n",
    "dataset = dataset.map(lambda x: {\"sequence\": \" \".join(list(re.sub(r\"[UZOB]\", \"X\", x[\"sequence\"])))})\n",
    "\n",
    "tknz_plm = tokenizer_plm(text=dataset[\"sequence\"], padding=False, truncation=False)\n",
    "tknz_llm = tokenizer_llm(text=dataset[\"text\"], padding=False, truncation=False)\n",
    "\n",
    "dataset = dataset.add_column(\n",
    "    \"input_ids\", [{\"sequence\": seq, \"text\": txt} for seq, txt in zip(tknz_plm[\"input_ids\"], tknz_llm[\"input_ids\"])]\n",
    ")\n",
    "dataset = dataset.add_column(\n",
    "    \"attention_mask\", [{\"sequence\": seq, \"text\": txt} for seq, txt in zip(tknz_plm[\"attention_mask\"], tknz_llm[\"attention_mask\"])]\n",
    ")\n",
    "\n",
    "dataset = dataset.remove_columns([\"uid\", \"sequence\", \"text\", \"sequence_original\"])\n",
    "dataset = DatasetDict({\"train\": dataset, \"test\": dataset})\n",
    "\n",
    "print(dataset)\n",
    "print(dataset[\"train\"][0])"
   ]
  },
  {
   "cell_type": "code",
   "execution_count": 6,
   "metadata": {},
   "outputs": [],
   "source": [
    "# collated_data = data_collator(dataset['train'].select(range(20)))\n",
    "# collated_data#['input_ids']"
   ]
  },
  {
   "cell_type": "code",
   "execution_count": 9,
   "metadata": {},
   "outputs": [
    {
     "data": {
      "application/vnd.jupyter.widget-view+json": {
       "model_id": "aeca8595872d431b8ed2f3c461634697",
       "version_major": 2,
       "version_minor": 0
      },
      "text/plain": [
       "  0%|          | 0/2 [00:00<?, ?it/s]"
      ]
     },
     "metadata": {},
     "output_type": "display_data"
    },
    {
     "name": "stdout",
     "output_type": "stream",
     "text": [
      "BaseModelOutputWithPastAndCrossAttentions(last_hidden_state=tensor([[[ 0.0088, -0.2823,  0.0425,  ...,  0.2538, -0.1532,  0.0862],\n",
      "         [ 0.2733,  0.0373,  0.0339,  ...,  0.2583,  0.3603,  0.2235],\n",
      "         [ 0.1986, -0.0644,  0.1578,  ...,  0.0536,  0.1903,  0.1227],\n",
      "         ...,\n",
      "         [-0.2545, -0.1984,  0.0010,  ..., -0.1478, -0.1356,  0.0838],\n",
      "         [-0.0566, -0.0406, -0.1214,  ..., -0.1220, -0.1797,  0.0865],\n",
      "         [-0.1056, -0.0000, -0.1906,  ..., -0.0821, -0.0557,  0.1157]],\n",
      "\n",
      "        [[ 0.0918, -0.0767, -0.0157,  ...,  0.2731,  0.1496,  0.0275],\n",
      "         [ 0.3758, -0.0374, -0.2219,  ...,  0.3062,  0.1348,  0.0006],\n",
      "         [ 0.3602, -0.2302, -0.1732,  ...,  0.3243,  0.1327, -0.0235],\n",
      "         ...,\n",
      "         [ 0.1157, -0.0701, -0.1848,  ..., -0.2225, -0.1143,  0.1544],\n",
      "         [-0.1004, -0.0853, -0.0898,  ..., -0.1680, -0.0000,  0.1170],\n",
      "         [-0.0917, -0.0228, -0.1487,  ...,  0.0295, -0.1818, -0.0235]]],\n",
      "       device='mps:0', grad_fn=<MulBackward0>), past_key_values=None, hidden_states=None, attentions=None, cross_attentions=None)\n",
      "torch.Size([2, 48, 1024])\n"
     ]
    }
   ],
   "source": [
    "data_collator = DataCollatorForProtT5CLIP(\n",
    "    tokenizer_plm=tokenizer_plm,\n",
    "    tokenizer_llm=tokenizer_llm,\n",
    "    padding=True,\n",
    "    pad_to_multiple_of=8,\n",
    ")\n",
    "\n",
    "training_args = TrainingArguments(\n",
    "    output_dir=\"../tmp/models/\",\n",
    "    learning_rate=1e-3,\n",
    "    per_device_train_batch_size=2,\n",
    "    per_device_eval_batch_size=16,\n",
    "    num_train_epochs=1,\n",
    "    logging_steps=1,\n",
    "    do_train=False,\n",
    "    do_eval=False,\n",
    "    evaluation_strategy=\"steps\",  # use eval_strategy\n",
    "    eval_steps=300,\n",
    "    save_strategy=\"steps\",\n",
    "    save_steps=300,\n",
    "    remove_unused_columns=True,\n",
    "    # label_names=[\"labels\"],\n",
    "    seed=69420,\n",
    ")\n",
    "\n",
    "def compute_metrics(eval_preds):\n",
    "    return {\n",
    "        \"loss\": 1.0,\n",
    "        \"accuracy\": 0.5,\n",
    "        \"precision\": 0.5,\n",
    "        \"recall\": 0.5,\n",
    "        \"f1\": 0.5,\n",
    "    }\n",
    "\n",
    "trainer = Trainer(\n",
    "    model=model,\n",
    "    args=training_args,\n",
    "    train_dataset=dataset[\"train\"].select(range(3)),\n",
    "    # eval_dataset=dataset['valid'],\n",
    "    data_collator=data_collator,\n",
    "    compute_metrics=compute_metrics,\n",
    ")\n",
    "\n",
    "gc.collect()\n",
    "\n",
    "pd.set_option(\"display.max_columns\", None)\n",
    "pd.set_option(\"display.max_rows\", None)\n",
    "\n",
    "if torch.cuda.is_available():\n",
    "    torch.cuda.empty_cache()\n",
    "if torch.backends.mps.is_available():\n",
    "    torch.mps.empty_cache()\n",
    "\n",
    "trainer.train()"
   ]
  },
  {
   "cell_type": "code",
   "execution_count": null,
   "metadata": {},
   "outputs": [],
   "source": []
  }
 ],
 "metadata": {
  "kernelspec": {
   "display_name": "Python 3",
   "language": "python",
   "name": "python3"
  },
  "language_info": {
   "codemirror_mode": {
    "name": "ipython",
    "version": 3
   },
   "file_extension": ".py",
   "mimetype": "text/x-python",
   "name": "python",
   "nbconvert_exporter": "python",
   "pygments_lexer": "ipython3",
   "version": "3.12.0"
  }
 },
 "nbformat": 4,
 "nbformat_minor": 2
}
