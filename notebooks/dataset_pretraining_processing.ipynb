{
 "cells": [
  {
   "cell_type": "code",
   "execution_count": 1,
   "metadata": {},
   "outputs": [
    {
     "name": "stderr",
     "output_type": "stream",
     "text": [
      "Matplotlib created a temporary cache directory at /tmp/matplotlib-_d2puoij because the default path (/home/lfi/.cache/matplotlib) is not a writable directory; it is highly recommended to set the MPLCONFIGDIR environment variable to a writable directory, in particular to speed up the import of Matplotlib and to better support multiprocessing.\n"
     ]
    }
   ],
   "source": [
    "import re\n",
    "from datasets import load_from_disk\n",
    "\n",
    "from src._shared import load_tokenizers, load_config"
   ]
  },
  {
   "cell_type": "code",
   "execution_count": 2,
   "metadata": {},
   "outputs": [],
   "source": [
    "config = load_config()\n",
    "tokenizer_plm, tokenizer_llm = load_tokenizers(config)"
   ]
  },
  {
   "cell_type": "code",
   "execution_count": 3,
   "metadata": {},
   "outputs": [],
   "source": [
    "dataset_path = \"../tmp/data/unprocessed/protein_go_concatenated_random_7_3\"\n",
    "dataset_path_processed = \"../tmp/data/processed/protein_go_concatenated_random_7_3\"\n",
    "\n",
    "dataset = load_from_disk(dataset_path)"
   ]
  },
  {
   "cell_type": "code",
   "execution_count": 4,
   "metadata": {},
   "outputs": [
    {
     "name": "stdout",
     "output_type": "stream",
     "text": [
      "DatasetDict({\n",
      "    train: Dataset({\n",
      "        features: ['proteins', 'sequences', 'sentences'],\n",
      "        num_rows: 54487\n",
      "    })\n",
      "    test: Dataset({\n",
      "        features: ['proteins', 'sequences', 'sentences'],\n",
      "        num_rows: 6055\n",
      "    })\n",
      "})\n",
      "{'proteins': 'P51693', 'sequences': 'MGPASPAARGLSRRPGQPPLPLLLPLLLLLLRAQPAIGSLAGGSPGAAEAPGSAQVAGLCGRLTLHRDLRTGRWEPDPQRSRRCLRDPQRVLEYCRQMYPELQIARVEQATQAIPMERWCGGSRSGSCAHPHHQVVPFRCLPGEFVSEALLVPEGCRFLHQERMDQCESSTRRHQEAQEACSSQGLILHGSGMLLPCGSDRFRGVEYVCCPPPGTPDPSGTAVGDPSTRSWPPGSRVEGAEDEEEEESFPQPVDDYFVEPPQAEEEEETVPPPSSHTLAVVGKVTPTPRPTDGVDIYFGMPGEISEHEGFLRAKMDLEERRMRQINEVMREWAMADNQSKNLPKADRQALNEHFQSILQTLEEQVSGERQRLVETHATRVIALINDQRRAALEGFLAALQADPPQAERVLLALRRYLRAEQKEQRHTLRHYQHVAAVDPEKAQQMRFQVHTHLQVIEERVNQSLGLLDQNPHLAQELRPQIQELLHSEHLGPSELEAPAPGGSSEDKGGLQPPDSKDDTPMTLPKGSTEQDAASPEKEKMNPLEQYERKVNASVPRGFPFHSSEIQRDELAPAGTGVSREAVSGLLIMGAGGGSLIVLSMLLLRRKKPYGAISHGVVEVDPMLTLEEQQLRELQRHGYENPTYRFLEERP', 'sentences': 'Relevant to: cellular response to organonitrogen compound, nucleus, extracellular matrix, nervous system development, protein binding, membrane, cellular_component, regulation of signal transduction, multicellular organism development, biological_process.'}\n"
     ]
    }
   ],
   "source": [
    "print(dataset)\n",
    "print(dataset['train'][2])"
   ]
  },
  {
   "cell_type": "code",
   "execution_count": 5,
   "metadata": {},
   "outputs": [
    {
     "data": {
      "application/vnd.jupyter.widget-view+json": {
       "model_id": "cf3b8d3cd3184394a719895143482d33",
       "version_major": 2,
       "version_minor": 0
      },
      "text/plain": [
       "Filter:   0%|          | 0/18023 [00:00<?, ? examples/s]"
      ]
     },
     "metadata": {},
     "output_type": "display_data"
    },
    {
     "data": {
      "application/vnd.jupyter.widget-view+json": {
       "model_id": "fc95092c9f1245709d783352dfe68b4d",
       "version_major": 2,
       "version_minor": 0
      },
      "text/plain": [
       "Filter:   0%|          | 0/2000 [00:00<?, ? examples/s]"
      ]
     },
     "metadata": {},
     "output_type": "display_data"
    }
   ],
   "source": [
    "identifier_sequence = \"sequences\"\n",
    "identifier_text = \"sentences\"\n",
    "\n",
    "for split in dataset:\n",
    "    dataset[split] = dataset[split].rename_column(\"proteins\", \"identifier\")\n",
    "    dataset[split] = dataset[split] = dataset[split].filter(lambda x: len(x[identifier_sequence]) < 256)\n",
    "    processed_sequences = [\" \".join(list(re.sub(r\"[UZOB]\", \"X\", seq))) for seq in dataset[split][identifier_sequence]]\n",
    "    dataset[split] = dataset[split].add_column(\"sequence_processed\", processed_sequences)\n",
    "    \n",
    "    processed_texts = [text.replace(\"Relevant to: \", \"\") for text in dataset[split][identifier_text]]\n",
    "    dataset[split] = dataset[split].remove_columns(identifier_text)\n",
    "    dataset[split] = dataset[split].add_column('processed_texts', processed_texts)\n",
    "\n",
    "    tknz_plm = tokenizer_plm(text=dataset[split][\"sequence_processed\"], padding=False, truncation=False)\n",
    "    tknz_llm = tokenizer_llm(text=dataset[split][\"processed_texts\"], padding=False, truncation=False)\n",
    "\n",
    "    dataset[split] = dataset[split].add_column(\"input_ids_sequence\", tknz_plm[\"input_ids\"])\n",
    "    dataset[split] = dataset[split].add_column(\"attention_mask_sequence\", tknz_plm[\"attention_mask\"])\n",
    "    dataset[split] = dataset[split].add_column(\"input_ids_text\", tknz_llm[\"input_ids\"])\n",
    "    dataset[split] = dataset[split].add_column(\"attention_mask_text\", tknz_llm[\"attention_mask\"])\n",
    "    \n",
    "    dataset[split] = dataset[split].filter(lambda x: len(x['input_ids_text']) < 256)\n"
   ]
  },
  {
   "cell_type": "code",
   "execution_count": 6,
   "metadata": {},
   "outputs": [
    {
     "name": "stdout",
     "output_type": "stream",
     "text": [
      "DatasetDict({\n",
      "    train: Dataset({\n",
      "        features: ['identifier', 'sequences', 'sequence_processed', 'processed_texts', 'input_ids_sequence', 'attention_mask_sequence', 'input_ids_text', 'attention_mask_text'],\n",
      "        num_rows: 18023\n",
      "    })\n",
      "    test: Dataset({\n",
      "        features: ['identifier', 'sequences', 'sequence_processed', 'processed_texts', 'input_ids_sequence', 'attention_mask_sequence', 'input_ids_text', 'attention_mask_text'],\n",
      "        num_rows: 2000\n",
      "    })\n",
      "})\n",
      "{'identifier': 'Q76MS9', 'sequences': 'MSQPDPVKKKRPPVKEEDLKGARGNLSKNQEIKSKTYQVMKQCEQMGSAAPSIFSRARTGSETVFEKSKDEPPKSVFG', 'sequence_processed': 'M S Q P D P V K K K R P P V K E E D L K G A R G N L S K N Q E I K S K T Y Q V M K Q C E Q M G S A A P S I F S R A R T G S E T V F E K S K D E P P K S V F G', 'processed_texts': 'intracellular anatomical structure, nucleus, intracellular membrane-bounded organelle, organelle, intracellular organelle, membrane-bounded organelle, cellular anatomical entity, cellular_component.', 'input_ids_sequence': [19, 7, 16, 13, 10, 13, 6, 14, 14, 14, 8, 13, 13, 6, 14, 9, 9, 10, 4, 14, 5, 3, 8, 5, 17, 4, 7, 14, 17, 16, 9, 12, 14, 7, 14, 11, 18, 16, 6, 19, 14, 16, 22, 9, 16, 19, 5, 7, 3, 3, 13, 7, 12, 15, 7, 8, 3, 8, 11, 5, 7, 9, 11, 6, 15, 9, 14, 7, 14, 10, 9, 13, 13, 14, 7, 6, 15, 5, 1], 'attention_mask_sequence': [1, 1, 1, 1, 1, 1, 1, 1, 1, 1, 1, 1, 1, 1, 1, 1, 1, 1, 1, 1, 1, 1, 1, 1, 1, 1, 1, 1, 1, 1, 1, 1, 1, 1, 1, 1, 1, 1, 1, 1, 1, 1, 1, 1, 1, 1, 1, 1, 1, 1, 1, 1, 1, 1, 1, 1, 1, 1, 1, 1, 1, 1, 1, 1, 1, 1, 1, 1, 1, 1, 1, 1, 1, 1, 1, 1, 1, 1, 1], 'input_ids_text': [938, 945, 514, 1070, 385, 8678, 936, 3829, 29892, 22699, 375, 29892, 938, 945, 514, 1070, 3813, 10800, 29899, 29306, 2894, 1808, 29892, 2894, 1808, 29892, 938, 945, 514, 1070, 2894, 1808, 29892, 3813, 10800, 29899, 29306, 2894, 1808, 29892, 3038, 1070, 385, 8678, 936, 7855, 29892, 3038, 1070, 29918, 9700, 29889], 'attention_mask_text': [1, 1, 1, 1, 1, 1, 1, 1, 1, 1, 1, 1, 1, 1, 1, 1, 1, 1, 1, 1, 1, 1, 1, 1, 1, 1, 1, 1, 1, 1, 1, 1, 1, 1, 1, 1, 1, 1, 1, 1, 1, 1, 1, 1, 1, 1, 1, 1, 1, 1, 1, 1]}\n"
     ]
    }
   ],
   "source": [
    "print(dataset)\n",
    "print(dataset['train'][1])"
   ]
  },
  {
   "cell_type": "code",
   "execution_count": 7,
   "metadata": {},
   "outputs": [
    {
     "data": {
      "application/vnd.jupyter.widget-view+json": {
       "model_id": "0f7c1e0b35734af79b16cfabb39f94db",
       "version_major": 2,
       "version_minor": 0
      },
      "text/plain": [
       "Saving the dataset (0/1 shards):   0%|          | 0/18023 [00:00<?, ? examples/s]"
      ]
     },
     "metadata": {},
     "output_type": "display_data"
    },
    {
     "data": {
      "application/vnd.jupyter.widget-view+json": {
       "model_id": "ff5255ba65d04ced828d1aecd0b3b3cc",
       "version_major": 2,
       "version_minor": 0
      },
      "text/plain": [
       "Saving the dataset (0/1 shards):   0%|          | 0/2000 [00:00<?, ? examples/s]"
      ]
     },
     "metadata": {},
     "output_type": "display_data"
    }
   ],
   "source": [
    "dataset.save_to_disk(dataset_path_processed)"
   ]
  },
  {
   "cell_type": "code",
   "execution_count": 8,
   "metadata": {},
   "outputs": [
    {
     "data": {
      "image/png": "[encoded data removed]",
      "text/plain": [
       "<Figure size 1000x600 with 1 Axes>"
      ]
     },
     "metadata": {},
     "output_type": "display_data"
    },
    {
     "ename": "",
     "evalue": "",
     "output_type": "error",
     "traceback": [
      "\u001b[1;31mThe Kernel crashed while executing code in the current cell or a previous cell. \n",
      "\u001b[1;31mPlease review the code in the cell(s) to identify a possible cause of the failure. \n",
      "\u001b[1;31mClick <a href='https://aka.ms/vscodeJupyterKernelCrash'>here</a> for more info. \n",
      "\u001b[1;31mView Jupyter <a href='command:jupyter.viewOutput'>log</a> for further details."
     ]
    }
   ],
   "source": [
    "import matplotlib.pyplot as plt\n",
    "\n",
    "# Calculate lengths for each split\n",
    "lengths = {}\n",
    "for split in dataset:\n",
    "    lengths[split] = [len(ids) for ids in dataset[split]['input_ids_text']]\n",
    "\n",
    "# Create the plot\n",
    "plt.figure(figsize=(10, 6))\n",
    "for split, split_lengths in lengths.items():\n",
    "    plt.hist(split_lengths, bins=50, alpha=0.5, label=split)\n",
    "\n",
    "plt.xlabel('Sequence Length')\n",
    "plt.ylabel('Count')\n",
    "plt.title('Distribution of Text Token Lengths')\n",
    "plt.legend()\n",
    "plt.show()\n"
   ]
  },
  {
   "cell_type": "code",
   "execution_count": null,
   "metadata": {},
   "outputs": [],
   "source": []
  }
 ],
 "metadata": {
  "kernelspec": {
   "display_name": "Python 3",
   "language": "python",
   "name": "python3"
  },
  "language_info": {
   "codemirror_mode": {
    "name": "ipython",
    "version": 3
   },
   "file_extension": ".py",
   "mimetype": "text/x-python",
   "name": "python",
   "nbconvert_exporter": "python",
   "pygments_lexer": "ipython3",
   "version": "3.12.0"
  }
 },
 "nbformat": 4,
 "nbformat_minor": 2
}
