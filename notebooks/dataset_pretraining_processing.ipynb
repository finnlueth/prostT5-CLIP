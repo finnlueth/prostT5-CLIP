{
 "cells": [
  {
   "cell_type": "code",
   "execution_count": 1,
   "metadata": {},
   "outputs": [
    {
     "name": "stderr",
     "output_type": "stream",
     "text": [
      "Matplotlib created a temporary cache directory at /tmp/matplotlib-3p4i06jp because the default path (/home/lfi/.cache/matplotlib) is not a writable directory; it is highly recommended to set the MPLCONFIGDIR environment variable to a writable directory, in particular to speed up the import of Matplotlib and to better support multiprocessing.\n"
     ]
    }
   ],
   "source": [
    "import re\n",
    "from datasets import load_from_disk\n",
    "\n",
    "from src._shared import load_tokenizers, load_config"
   ]
  },
  {
   "cell_type": "code",
   "execution_count": 2,
   "metadata": {},
   "outputs": [],
   "source": [
    "config = load_config()\n",
    "tokenizer_plm, tokenizer_llm = load_tokenizers(config)"
   ]
  },
  {
   "cell_type": "code",
   "execution_count": 4,
   "metadata": {},
   "outputs": [],
   "source": [
    "dataset_path = \"../tmp/data/unprocessed/protein_go_contrastive_concatenated\"\n",
    "dataset_path_processed = \"../tmp/data/processed/protein_go_contrastive_concatenated\"\n",
    "\n",
    "dataset = load_from_disk(dataset_path)"
   ]
  },
  {
   "cell_type": "code",
   "execution_count": 5,
   "metadata": {},
   "outputs": [
    {
     "name": "stdout",
     "output_type": "stream",
     "text": [
      "DatasetDict({\n",
      "    train: Dataset({\n",
      "        features: ['proteins', 'sequences', 'sentences'],\n",
      "        num_rows: 54487\n",
      "    })\n",
      "    test: Dataset({\n",
      "        features: ['proteins', 'sequences', 'sentences'],\n",
      "        num_rows: 6055\n",
      "    })\n",
      "})\n",
      "{'proteins': 'H0Y327', 'sequences': 'XGREGLLGQRRPQDGQARSSCSPGGRTPAARDSIVREVIQNSKEVLSLLQEKNPAFKPVLAIIQAGDDNLMQEINQNLAEEAGLNITHICLPPDSSEAEIIDEILKINEDTRVHGLALQISENLFSNKVLNALKPEKDVDGVTDINLGKLVRGDAHECFVSPVAKAVIELLEKSVGVNLDGKKILVVGAHGSLEAALQCLFQRKGSMTMSIQWKTRQLQSKLHEADIVVLGSPKPEEIPLTWIQPGTTVLNCSHDFLSGKVGCGSPRIHFGGLIEEDDVILLAAALRIQNMVSSGRRWLREQQHRRWRLHCLKLQPLSPVPSDIEISRGQTP', 'sentences': 'Relevant to: organelle,intracellular organelle,intracellular anatomical structure,cellular_component,cellular anatomical entity,membrane-bounded organelle,cytoplasm,intracellular membrane-bounded organelle,mitochondrion; Not relevant to: negative regulation of acetylcholine-gated cation channel activity,negative regulation of protein sumoylation,regulation of telomerase activity,nematode male tail tip morphogenesis,methyl-CpNpN binding,activin receptor antagonist activity,negative regulation of metaphase/anaphase transition of meiotic cell cycle,beta-glucuronidase activity,inositol hexakisphosphate 1-kinase activity,xylose isomerase activity.'}\n"
     ]
    }
   ],
   "source": [
    "print(dataset)\n",
    "print(dataset['train'][0])"
   ]
  },
  {
   "cell_type": "code",
   "execution_count": null,
   "metadata": {},
   "outputs": [],
   "source": [
    "for split in dataset:\n",
    "    matches = [i for i, seq in enumerate(dataset[split]['proteins']) if 'P84690' in seq]\n",
    "    if matches:\n",
    "        print(f\"Found P84690 in {split} split at indices: {matches}\")\n",
    "        for idx in matches:\n",
    "            print(f\"\\nEntry at index {idx}:\")\n",
    "            print(dataset[split][idx])\n"
   ]
  },
  {
   "cell_type": "code",
   "execution_count": null,
   "metadata": {},
   "outputs": [],
   "source": [
    "identifier_sequence = \"sequences\"\n",
    "identifier_text = \"sentences\"\n",
    "\n",
    "for split in dataset:\n",
    "    dataset[split] = dataset[split] = dataset[split].filter(lambda x: len(x[identifier_sequence]) < 256)\n",
    "    processed_sequences = [\" \".join(list(re.sub(r\"[UZOB]\", \"X\", seq))) for seq in dataset[split][identifier_sequence]]\n",
    "    dataset[split] = dataset[split].add_column(\"sequence_processed\", processed_sequences)\n",
    "\n",
    "    tknz_plm = tokenizer_plm(text=dataset[split][\"sequence_processed\"], padding=False, truncation=False)\n",
    "    tknz_llm = tokenizer_llm(text=dataset[split][identifier_text], padding=False, truncation=False)\n",
    "\n",
    "    dataset[split] = dataset[split].add_column(\"input_ids_sequence\", tknz_plm[\"input_ids\"])\n",
    "    dataset[split] = dataset[split].add_column(\"attention_mask_sequence\", tknz_plm[\"attention_mask\"])\n",
    "    dataset[split] = dataset[split].add_column(\"input_ids_text\", tknz_llm[\"input_ids\"])\n",
    "    dataset[split].add_column(\"attention_mask_text\", tknz_llm[\"attention_mask\"])\n",
    "    \n",
    "    dataset[split] = dataset[split].filter(lambda x: len(x['input_ids_text']) < 256)\n"
   ]
  },
  {
   "cell_type": "code",
   "execution_count": null,
   "metadata": {},
   "outputs": [],
   "source": [
    "print(dataset)\n",
    "print(dataset['train'][1])"
   ]
  },
  {
   "cell_type": "code",
   "execution_count": null,
   "metadata": {},
   "outputs": [],
   "source": [
    "dataset.save_to_disk(dataset_path_processed)"
   ]
  },
  {
   "cell_type": "code",
   "execution_count": null,
   "metadata": {},
   "outputs": [],
   "source": [
    "import matplotlib.pyplot as plt\n",
    "\n",
    "# Calculate lengths for each split\n",
    "lengths = {}\n",
    "for split in dataset:\n",
    "    lengths[split] = [len(ids) for ids in dataset[split]['input_ids_text']]\n",
    "\n",
    "# Create the plot\n",
    "plt.figure(figsize=(10, 6))\n",
    "for split, split_lengths in lengths.items():\n",
    "    plt.hist(split_lengths, bins=50, alpha=0.5, label=split)\n",
    "\n",
    "plt.xlabel('Sequence Length')\n",
    "plt.ylabel('Count')\n",
    "plt.title('Distribution of Text Token Lengths')\n",
    "plt.legend()\n",
    "plt.show()\n"
   ]
  },
  {
   "cell_type": "code",
   "execution_count": null,
   "metadata": {},
   "outputs": [],
   "source": []
  }
 ],
 "metadata": {
  "kernelspec": {
   "display_name": "Python 3",
   "language": "python",
   "name": "python3"
  },
  "language_info": {
   "codemirror_mode": {
    "name": "ipython",
    "version": 3
   },
   "file_extension": ".py",
   "mimetype": "text/x-python",
   "name": "python",
   "nbconvert_exporter": "python",
   "pygments_lexer": "ipython3",
   "version": "3.12.0"
  }
 },
 "nbformat": 4,
 "nbformat_minor": 2
}
