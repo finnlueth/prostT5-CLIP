{
 "cells": [
  {
   "cell_type": "code",
   "execution_count": 1,
   "metadata": {},
   "outputs": [],
   "source": [
    "# !jupyter nbconvert --to python train_clip_model.ipynb --TagRemovePreprocessor.enabled=True --TagRemovePreprocessor.remove_cell_tags remove_cell"
   ]
  },
  {
   "cell_type": "code",
   "execution_count": 2,
   "metadata": {},
   "outputs": [
    {
     "name": "stdout",
     "output_type": "stream",
     "text": [
      "Using device: cuda:0\n"
     ]
    }
   ],
   "source": [
    "%reload_ext autoreload\n",
    "%autoreload 2\n",
    "\n",
    "import gc\n",
    "import os\n",
    "import re\n",
    "import random\n",
    "from datetime import datetime\n",
    "\n",
    "import numpy as np\n",
    "import pandas as pd\n",
    "import torch\n",
    "from datasets import Dataset, DatasetDict, load_from_disk\n",
    "from peft import (\n",
    "    LoraConfig,\n",
    "    get_peft_model,\n",
    ")\n",
    "from peft.utils.constants import TRANSFORMERS_MODELS_TO_LORA_TARGET_MODULES_MAPPING\n",
    "from transformers import (\n",
    "    AutoConfig,\n",
    "    AutoTokenizer,\n",
    "    CLIPConfig,\n",
    "    T5Tokenizer,\n",
    "    Trainer,\n",
    "    TrainingArguments,\n",
    ")\n",
    "\n",
    "from src.model.configuration_protein_clip import ProtT5CLIPConfig\n",
    "from src.model.data_collator_multi_input import DataCollatorForProtT5CLIP\n",
    "from src.model.modeling_protein_clip import ProtT5CLIP\n",
    "from src.model.trainer_protein_subset import ProteinSampleSubsetTrainer\n",
    "from src.model.metrics import BatchMetricsAccumulator, metrics_factory\n",
    "\n",
    "os.environ[\"CUDA_DEVICE_ORDER\"] = \"PCI_BUS_ID\"\n",
    "os.environ[\"CUDA_VISIBLE_DEVICES\"] = \"1\"\n",
    "\n",
    "# os.environ[\"HF_DATASETS_OFFLINE\"] = \"1\"\n",
    "# os.environ[\"HF_HUB_OFFLINE\"] = \"1\"\n",
    "\n",
    "pd.set_option(\"display.max_columns\", None)\n",
    "pd.set_option(\"display.max_rows\", None)\n",
    "# torch.set_printoptions(profile=\"full\")\n",
    "torch.set_printoptions(profile=\"default\")\n",
    "\n",
    "VERBOSE = False\n",
    "\n",
    "project_name = \"protT5-CLIP\"\n",
    "custom_name = \"\"\n",
    "model_name_identifier = (\n",
    "    project_name + \"-\" + datetime.now().strftime(\"%Y-%m-%d-%H-%M-%S\") + (f\"-{custom_name}\" if custom_name else \"\")\n",
    ")\n",
    "\n",
    "USE_WANDB = False\n",
    "report_to = \"wandb\"\n",
    "if USE_WANDB:\n",
    "    import wandb\n",
    "\n",
    "    run = wandb.init(project=project_name, name=model_name_identifier)\n",
    "\n",
    "device = \"cuda:0\" if torch.cuda.is_available() else \"mps\" if torch.backends.mps.is_available() else \"cpu\"\n",
    "print(\"Using device:\", device)"
   ]
  },
  {
   "cell_type": "code",
   "execution_count": 3,
   "metadata": {},
   "outputs": [
    {
     "name": "stderr",
     "output_type": "stream",
     "text": [
      "`flash-attention` package not found, consider installing for better performance: No module named 'flash_attn'.\n",
      "Current `flash-attention` does not support `window_size`. Either upgrade or use `attn_implementation='eager'`.\n"
     ]
    },
    {
     "data": {
      "application/vnd.jupyter.widget-view+json": {
       "model_id": "a803388412284e47b7803ef74c2c2782",
       "version_major": 2,
       "version_minor": 0
      },
      "text/plain": [
       "Loading checkpoint shards:   0%|          | 0/2 [00:00<?, ?it/s]"
      ]
     },
     "metadata": {},
     "output_type": "display_data"
    },
    {
     "name": "stdout",
     "output_type": "stream",
     "text": [
      "Loaded model...\n"
     ]
    }
   ],
   "source": [
    "plm_name = \"Rostlab/prot_t5_xl_uniref50\"\n",
    "llm_name = \"microsoft/Phi-3.5-mini-instruct\"\n",
    "\n",
    "plm_config = AutoConfig.from_pretrained(plm_name)\n",
    "llm_config = AutoConfig.from_pretrained(llm_name, trust_remote_code=True)\n",
    "\n",
    "model_config = ProtT5CLIPConfig(\n",
    "    name_or_path_plm=plm_name,\n",
    "    name_or_path_llm=llm_name,\n",
    "    plm_config=plm_config,\n",
    "    llm_config=llm_config,\n",
    "    output_hidden_states=True,\n",
    "    output_attentions=True,\n",
    "    return_dict=True,\n",
    "    projection_dim=1024,\n",
    "    logit_scale_init_value=2.6592,\n",
    "    device=device,\n",
    ")\n",
    "\n",
    "model = ProtT5CLIP(model_config)\n",
    "model.to(device)\n",
    "# model.to(torch.bfloat16)\n",
    "\n",
    "if VERBOSE:\n",
    "    for name, param in model.named_parameters():\n",
    "        print(\n",
    "            f\"{name:<96} {param.device}, {param.dtype}, {param.nelement() * param.element_size() / (1024**2):.2f} MB, {param.requires_grad}\"\n",
    "        )\n",
    "\n",
    "if torch.cuda.is_available():\n",
    "    torch.cuda.empty_cache()\n",
    "    gc.collect()\n",
    "\n",
    "print(\"Loaded model...\")"
   ]
  },
  {
   "cell_type": "code",
   "execution_count": 4,
   "metadata": {},
   "outputs": [
    {
     "name": "stdout",
     "output_type": "stream",
     "text": [
      "target_modules: ['q', 'v', 'qkv_proj']\n",
      "modules_to_save: ['protein_projection', 'text_projection', 'logit_scale']\n",
      "trainable params: 9,306,113 || all params: 5,042,721,794 || trainable%: 0.1845\n"
     ]
    }
   ],
   "source": [
    "target_modules = []\n",
    "modules_to_save = [\"protein_projection\", \"text_projection\", \"logit_scale\"]\n",
    "\n",
    "target_modules += TRANSFORMERS_MODELS_TO_LORA_TARGET_MODULES_MAPPING[\"t5\"]\n",
    "# target_modules += [\"q\", \"k\", \"v\", \"o\"]\n",
    "# target_modules += [f\"model_plm.encoder.block.{x}\" for x in TRANSFORMERS_MODELS_TO_LORA_TARGET_MODULES_MAPPING['t5']]\n",
    "modules_to_save += model.loading_info_plm[\"missing_keys\"]\n",
    "\n",
    "target_modules += [\"qkv_proj\"]\n",
    "# target_modules += [\"qkv_proj\", \"o_proj\"]\n",
    "# target_modules += TRANSFORMERS_MODELS_TO_LORA_TARGET_MODULES_MAPPING['phi']\n",
    "# target_modules += [f\"model_llm.model.{x}\" for x  in TRANSFORMERS_MODELS_TO_LORA_TARGET_MODULES_MAPPING['phi']]\n",
    "modules_to_save += model.loading_info_llm[\"missing_keys\"]\n",
    "\n",
    "lora_config = LoraConfig(\n",
    "    inference_mode=False,\n",
    "    r=8,\n",
    "    lora_alpha=16,\n",
    "    lora_dropout=0.05,\n",
    "    target_modules=target_modules,\n",
    "    bias=\"none\",\n",
    "    modules_to_save=modules_to_save,\n",
    "    use_rslora=True,\n",
    "    # layers_to_transform\n",
    "    # use_dora=True,\n",
    ")\n",
    "\n",
    "model = get_peft_model(model, lora_config)\n",
    "\n",
    "if VERBOSE:\n",
    "    for name, param in model.named_parameters():\n",
    "        print(\n",
    "            f\"{name:<96} {param.device}, {param.dtype}, {param.nelement() * param.element_size() / (1024**2):.2f} MB, {param.requires_grad}\"\n",
    "        )\n",
    "\n",
    "print(\"target_modules:\", target_modules)\n",
    "print(\"modules_to_save:\", modules_to_save)\n",
    "model.print_trainable_parameters()"
   ]
  },
  {
   "cell_type": "code",
   "execution_count": 5,
   "metadata": {},
   "outputs": [
    {
     "name": "stdout",
     "output_type": "stream",
     "text": [
      "Loading dataset from disk...\n",
      "DatasetDict({\n",
      "    train: Dataset({\n",
      "        features: ['identifier', 'term', 'aspect', 'GO Name', 'GO Sentence', 'sequence', 'species', '__index_level_0__', 'sequence_processed', 'input_ids_sequence', 'attention_mask_sequence', 'input_ids_text', 'attention_mask_text'],\n",
      "        num_rows: 44098\n",
      "    })\n",
      "    test: Dataset({\n",
      "        features: ['identifier', 'term', 'aspect', 'GO Name', 'GO Sentence', 'sequence', 'species', '__index_level_0__', 'sequence_processed', 'input_ids_sequence', 'attention_mask_sequence', 'input_ids_text', 'attention_mask_text'],\n",
      "        num_rows: 221346\n",
      "    })\n",
      "})\n",
      "{'identifier': 'A0A023GUT0', 'term': 'GO:0042531', 'aspect': 'BPO', 'GO Name': 'positive regulation of tyrosine phosphorylation of STAT protein', 'GO Sentence': 'The biological process is positive regulation of tyrosine phosphorylation of STAT protein.', 'sequence': 'MRCPGVSLWGLLCLGAAAGGGRPVRLEGLRADARALTRTLSTRLQQLQLFPLTLRLSGLEGVPEGVPEGVPEGGVPPGLGWAAQRLQLFQRLLGALPGPDPRLAQVANDLENLRSLLALLGTLLGCPPPRDPRPPPPAPLAEAPHTVAGVALARLRRCLDGVAACLEGVPAC', 'species': 'Taeniopygia guttata', '__index_level_0__': 376, 'sequence_processed': 'M R C P G V S L W G L L C L G A A A G G G R P V R L E G L R A D A R A L T R T L S T R L Q Q L Q L F P L T L R L S G L E G V P E G V P E G V P E G G V P P G L G W A A Q R L Q L F Q R L L G A L P G P D P R L A Q V A N D L E N L R S L L A L L G T L L G C P P P R D P R P P P P A P L A E A P H T V A G V A L A R L R R C L D G V A A C L E G V P A C', 'input_ids_sequence': [19, 8, 22, 13, 5, 6, 7, 4, 21, 5, 4, 4, 22, 4, 5, 3, 3, 3, 5, 5, 5, 8, 13, 6, 8, 4, 9, 5, 4, 8, 3, 10, 3, 8, 3, 4, 11, 8, 11, 4, 7, 11, 8, 4, 16, 16, 4, 16, 4, 15, 13, 4, 11, 4, 8, 4, 7, 5, 4, 9, 5, 6, 13, 9, 5, 6, 13, 9, 5, 6, 13, 9, 5, 5, 6, 13, 13, 5, 4, 5, 21, 3, 3, 16, 8, 4, 16, 4, 15, 16, 8, 4, 4, 5, 3, 4, 13, 5, 13, 10, 13, 8, 4, 3, 16, 6, 3, 17, 10, 4, 9, 17, 4, 8, 7, 4, 4, 3, 4, 4, 5, 11, 4, 4, 5, 22, 13, 13, 13, 8, 10, 13, 8, 13, 13, 13, 13, 3, 13, 4, 3, 9, 3, 13, 20, 11, 6, 3, 5, 6, 3, 4, 3, 8, 4, 8, 8, 22, 4, 10, 5, 6, 3, 3, 22, 4, 9, 5, 6, 13, 3, 22, 1], 'attention_mask_sequence': [1, 1, 1, 1, 1, 1, 1, 1, 1, 1, 1, 1, 1, 1, 1, 1, 1, 1, 1, 1, 1, 1, 1, 1, 1, 1, 1, 1, 1, 1, 1, 1, 1, 1, 1, 1, 1, 1, 1, 1, 1, 1, 1, 1, 1, 1, 1, 1, 1, 1, 1, 1, 1, 1, 1, 1, 1, 1, 1, 1, 1, 1, 1, 1, 1, 1, 1, 1, 1, 1, 1, 1, 1, 1, 1, 1, 1, 1, 1, 1, 1, 1, 1, 1, 1, 1, 1, 1, 1, 1, 1, 1, 1, 1, 1, 1, 1, 1, 1, 1, 1, 1, 1, 1, 1, 1, 1, 1, 1, 1, 1, 1, 1, 1, 1, 1, 1, 1, 1, 1, 1, 1, 1, 1, 1, 1, 1, 1, 1, 1, 1, 1, 1, 1, 1, 1, 1, 1, 1, 1, 1, 1, 1, 1, 1, 1, 1, 1, 1, 1, 1, 1, 1, 1, 1, 1, 1, 1, 1, 1, 1, 1, 1, 1, 1, 1, 1, 1, 1, 1, 1, 1, 1], 'input_ids_text': [450, 4768, 5996, 1889, 338, 6374, 1072, 2785, 310, 7911, 1883, 457, 1374, 25715, 706, 18411, 310, 6850, 1299, 26823, 29889], 'attention_mask_text': [1, 1, 1, 1, 1, 1, 1, 1, 1, 1, 1, 1, 1, 1, 1, 1, 1, 1, 1, 1, 1]}\n"
     ]
    }
   ],
   "source": [
    "tokenizer_plm = T5Tokenizer.from_pretrained(\n",
    "    pretrained_model_name_or_path=model_config.name_or_path_plm,\n",
    "    do_lower_case=False,\n",
    "    use_fast=True,\n",
    "    legacy=False,\n",
    ")\n",
    "\n",
    "tokenizer_llm = AutoTokenizer.from_pretrained(\n",
    "    pretrained_model_name_or_path=model_config.name_or_path_llm,\n",
    ")\n",
    "\n",
    "dataset_path = \"../tmp/data/train_val_GO_skimmed\"\n",
    "dataset_path_processed = \"../tmp/data/train_val_GO_skimmed_processed\"\n",
    "\n",
    "if not os.path.exists(dataset_path_processed):\n",
    "    print(\"Processing dataset...\")\n",
    "    dataset = load_from_disk(dataset_path)\n",
    "\n",
    "    for split in dataset:\n",
    "        print(f\"Processing {split}, {len(dataset[split])} items.\")\n",
    "\n",
    "        dataset[split] = dataset[split].filter(lambda x: len(x[\"sequence\"]) < 256)\n",
    "        processed_sequences = [\" \".join(list(re.sub(r\"[UZOB]\", \"X\", seq))) for seq in dataset[split][\"sequence\"]]\n",
    "        dataset[split] = dataset[split].add_column(\"sequence_processed\", processed_sequences)\n",
    "\n",
    "        tknz_plm = tokenizer_plm(text=dataset[split][\"sequence_processed\"], padding=False, truncation=False)\n",
    "        tknz_llm = tokenizer_llm(text=dataset[split][\"GO Sentence\"], padding=False, truncation=False)\n",
    "\n",
    "        dataset[split] = dataset[split].add_column(\"input_ids_sequence\", tknz_plm[\"input_ids\"])\n",
    "        dataset[split] = dataset[split].add_column(\"attention_mask_sequence\", tknz_plm[\"attention_mask\"])\n",
    "        dataset[split] = dataset[split].add_column(\"input_ids_text\", tknz_llm[\"input_ids\"])\n",
    "        dataset[split] = dataset[split].add_column(\"attention_mask_text\", tknz_llm[\"attention_mask\"])\n",
    "\n",
    "    dataset.save_to_disk(dataset_path_processed)\n",
    "else:\n",
    "    print(\"Loading dataset from disk...\")\n",
    "    dataset = load_from_disk(dataset_path_processed)\n",
    "\n",
    "print(dataset)\n",
    "print(dataset[\"train\"][0])"
   ]
  },
  {
   "cell_type": "code",
   "execution_count": 16,
   "metadata": {},
   "outputs": [
    {
     "name": "stderr",
     "output_type": "stream",
     "text": [
      "Detected kernel version 4.15.0, which is below the recommended minimum of 5.5.0; this can cause the process to hang. It is recommended to upgrade the kernel to the minimum version or higher.\n"
     ]
    }
   ],
   "source": [
    "data_collator = DataCollatorForProtT5CLIP(\n",
    "    tokenizer_plm=tokenizer_plm, tokenizer_llm=tokenizer_llm, padding=True, pad_to_multiple_of=8\n",
    ")\n",
    "\n",
    "training_args = TrainingArguments(\n",
    "    output_dir=f\"../tmp/models/checkpoints/{model_name_identifier}\",\n",
    "    run_name=run.name if USE_WANDB else None,\n",
    "    report_to=report_to,\n",
    "    learning_rate=1e-3,\n",
    "    per_device_train_batch_size=16,\n",
    "    num_train_epochs=1,\n",
    "    # do_train=True,\n",
    "    # do_eval=True,\n",
    "    eval_strategy=\"steps\",\n",
    "    eval_steps=1,\n",
    "    per_device_eval_batch_size=16,\n",
    "    eval_on_start=True,\n",
    "    batch_eval_metrics=True,\n",
    "    save_strategy=\"steps\",\n",
    "    save_steps=300,\n",
    "    save_total_limit=5,\n",
    "    # load_best_model_at_end=True,\n",
    "    # metric_for_best_model=\"???\"\n",
    "    # greater_is_better=True,\n",
    "    remove_unused_columns=False,\n",
    "    label_names=[\"input_ids_sequence\", \"attention_mask_sequence\", \"input_ids_text\", \"attention_mask_text\"],\n",
    "    logging_strategy=\"steps\",\n",
    "    # logging_first_step=True,\n",
    "    logging_steps=1,\n",
    "    # seed=69420,\n",
    ")\n",
    "\n",
    "trainer = ProteinSampleSubsetTrainer(\n",
    "    model=model,\n",
    "    args=training_args,\n",
    "    train_dataset=dataset[\"train\"].select(range(100)),\n",
    "    eval_dataset=dataset[\"test\"],  # .select(random.sample(range(len(dataset[\"test\"])), 20)),\n",
    "    data_collator=data_collator,\n",
    "    compute_metrics=metrics_factory(),\n",
    "    eval_sample_size=32,\n",
    ")\n",
    "\n",
    "all_keys = [\n",
    "    \"logits_per_protein\",\n",
    "    \"logits_per_text\",\n",
    "    \"text_embeds\",\n",
    "    \"protein_embeds\",\n",
    "    \"text_outputs\",\n",
    "    \"protein_outputs\",\n",
    "    \"proj_protein_embeds\",\n",
    "    \"proj_text_embeds\",\n",
    "]\n",
    "keep_keys = [\"proj_protein_embeds\", \"proj_text_embeds\"]\n",
    "ignore_keys = [i for i in all_keys if i not in keep_keys]"
   ]
  },
  {
   "cell_type": "code",
   "execution_count": 17,
   "metadata": {},
   "outputs": [
    {
     "data": {
      "text/html": [
       "\n",
       "    <div>\n",
       "      \n",
       "      <progress value='2' max='2' style='width:300px; height:20px; vertical-align: middle;'></progress>\n",
       "      [2/2 00:01]\n",
       "    </div>\n",
       "    "
      ],
      "text/plain": [
       "<IPython.core.display.HTML object>"
      ]
     },
     "metadata": {},
     "output_type": "display_data"
    },
    {
     "name": "stdout",
     "output_type": "stream",
     "text": [
      "[-0.00892835 -0.04094984 -0.06238135 -0.03208643  0.00907066 -0.02356425\n",
      " -0.01269467 -0.02239036  0.01397646 -0.00266338 -0.00793449 -0.03031309\n",
      " -0.01374864 -0.0004881  -0.02278804 -0.0022584 ]\n",
      "0.013976463\n",
      "0.013976463116705418\n",
      "[-0.04497111  0.02537134  0.00621181 -0.01680152 -0.01744369 -0.00194581\n",
      " -0.02745724  0.0174656  -0.01884412 -0.01135536 -0.04342727 -0.05246267\n",
      " -0.06460688 -0.01514467 -0.00428685  0.01406693]\n",
      "0.025371345\n",
      "0.02537134476006031\n"
     ]
    },
    {
     "data": {
      "text/html": [
       "<div>\n",
       "<style scoped>\n",
       "    .dataframe tbody tr th:only-of-type {\n",
       "        vertical-align: middle;\n",
       "    }\n",
       "\n",
       "    .dataframe tbody tr th {\n",
       "        vertical-align: top;\n",
       "    }\n",
       "\n",
       "    .dataframe thead th {\n",
       "        text-align: right;\n",
       "    }\n",
       "</style>\n",
       "<table border=\"1\" class=\"dataframe\">\n",
       "  <thead>\n",
       "    <tr style=\"text-align: right;\">\n",
       "      <th></th>\n",
       "      <th>eval_loss</th>\n",
       "      <th>eval_model_preparation_time</th>\n",
       "      <th>eval_mean_cosine_similarity</th>\n",
       "      <th>eval_std_cosine_similarity</th>\n",
       "      <th>eval_min_cosine_similarity</th>\n",
       "      <th>eval_max_cosine_similarity</th>\n",
       "      <th>eval_runtime</th>\n",
       "      <th>eval_samples_per_second</th>\n",
       "      <th>eval_steps_per_second</th>\n",
       "      <th>step</th>\n",
       "    </tr>\n",
       "  </thead>\n",
       "  <tbody>\n",
       "    <tr>\n",
       "      <th>0</th>\n",
       "      <td>2.807867</td>\n",
       "      <td>0.0193</td>\n",
       "      <td>-0.016118</td>\n",
       "      <td>0.022121</td>\n",
       "      <td>-0.064607</td>\n",
       "      <td>0.025371</td>\n",
       "      <td>2.7259</td>\n",
       "      <td>11.739</td>\n",
       "      <td>0.734</td>\n",
       "      <td>0</td>\n",
       "    </tr>\n",
       "  </tbody>\n",
       "</table>\n",
       "</div>"
      ],
      "text/plain": [
       "   eval_loss  eval_model_preparation_time  eval_mean_cosine_similarity  \\\n",
       "0   2.807867                       0.0193                    -0.016118   \n",
       "\n",
       "   eval_std_cosine_similarity  eval_min_cosine_similarity  \\\n",
       "0                    0.022121                   -0.064607   \n",
       "\n",
       "   eval_max_cosine_similarity  eval_runtime  eval_samples_per_second  \\\n",
       "0                    0.025371        2.7259                   11.739   \n",
       "\n",
       "   eval_steps_per_second  step  \n",
       "0                  0.734     0  "
      ]
     },
     "execution_count": 17,
     "metadata": {},
     "output_type": "execute_result"
    }
   ],
   "source": [
    "trainer.evaluate(ignore_keys=ignore_keys)\n",
    "pd.DataFrame(trainer.state.log_history)"
   ]
  },
  {
   "cell_type": "code",
   "execution_count": null,
   "metadata": {},
   "outputs": [],
   "source": [
    "trainer.train(ignore_keys_for_eval=ignore_keys)\n",
    "\n",
    "gc.collect()\n",
    "if torch.cuda.is_available():\n",
    "    torch.cuda.empty_cache()\n",
    "if torch.backends.mps.is_available():\n",
    "    torch.mps.empty_cache()"
   ]
  },
  {
   "cell_type": "code",
   "execution_count": null,
   "metadata": {},
   "outputs": [],
   "source": [
    "pd.DataFrame(trainer.state.log_history)"
   ]
  },
  {
   "cell_type": "code",
   "execution_count": null,
   "metadata": {},
   "outputs": [],
   "source": [
    "model.logit_scale.modules_to_save.default.scale"
   ]
  },
  {
   "cell_type": "code",
   "execution_count": null,
   "metadata": {},
   "outputs": [],
   "source": [
    "model.logit_scale.original_module.scale"
   ]
  },
  {
   "cell_type": "markdown",
   "metadata": {},
   "source": [
    "---\n",
    "# Model saving"
   ]
  },
  {
   "cell_type": "code",
   "execution_count": null,
   "metadata": {},
   "outputs": [],
   "source": [
    "model_save_path = f\"../tmp/models/{model_name_identifier}\"\n",
    "model.save_pretrained(\n",
    "    model_save_path,\n",
    ")\n",
    "print(\"Model saved to:\", model_save_path)"
   ]
  },
  {
   "cell_type": "markdown",
   "metadata": {},
   "source": [
    "---\n",
    "## Model Sanity Checks"
   ]
  },
  {
   "cell_type": "code",
   "execution_count": 11,
   "metadata": {},
   "outputs": [],
   "source": [
    "from src.model.utils import compare_model_parameters_state_dicts, get_model_info"
   ]
  },
  {
   "cell_type": "code",
   "execution_count": null,
   "metadata": {},
   "outputs": [],
   "source": [
    "# model_save_path = \"../tmp/models/protT5-CLIP-2024-12-28-03-12-32\"\n",
    "\n",
    "reloaded_model = ProtT5CLIP(model_config)\n",
    "reloaded_model.load_adapter(model_save_path)\n",
    "reloaded_model.to(device)\n",
    "# reloaded_model.to(torch.bfloat16)\n",
    "print(\"Loading adapter from:\", model_save_path)"
   ]
  },
  {
   "cell_type": "code",
   "execution_count": null,
   "metadata": {},
   "outputs": [],
   "source": [
    "reloaded_model.logit_scale.modules_to_save.default.scale"
   ]
  },
  {
   "cell_type": "code",
   "execution_count": null,
   "metadata": {},
   "outputs": [],
   "source": [
    "reloaded_model.logit_scale.original_module.scale"
   ]
  },
  {
   "cell_type": "code",
   "execution_count": null,
   "metadata": {},
   "outputs": [],
   "source": [
    "reloaded_model_fresh = ProtT5CLIP(model_config)\n",
    "reloaded_model_fresh.to(device)\n",
    "# reloaded_model_fresh.to(torch.bfloat16)\n",
    "print(\"Loading fresh model.\")"
   ]
  },
  {
   "cell_type": "code",
   "execution_count": null,
   "metadata": {},
   "outputs": [],
   "source": [
    "display(\"model\")\n",
    "display(model.base_model.model)\n",
    "display(\"reloaded_model\")\n",
    "display(reloaded_model)\n",
    "display(\"reloaded_model_fresh\")\n",
    "display(reloaded_model_fresh)"
   ]
  },
  {
   "cell_type": "code",
   "execution_count": 29,
   "metadata": {},
   "outputs": [],
   "source": [
    "# model = model.merge_and_unload()\n",
    "# reloaded_model = reloaded_model.merge_and_unload()\n",
    "# model.to(\"cpu\")\n",
    "# reloaded_model.to(\"cpu\")"
   ]
  },
  {
   "cell_type": "code",
   "execution_count": 30,
   "metadata": {},
   "outputs": [],
   "source": [
    "# model.protein_projection.modules_to_save.default.weight[0]\n",
    "# reloaded_model.protein_projection.modules_to_save.default.weight[0]\n",
    "# model.text_projection.modules_to_save.default.weight[0]\n",
    "# reloaded_model.text_projection.modules_to_save.default.weight[0]\n",
    "# model.logit_scale\n",
    "# reloaded_model.logit_scale"
   ]
  },
  {
   "cell_type": "code",
   "execution_count": null,
   "metadata": {},
   "outputs": [],
   "source": [
    "all(\n",
    "    model.model_llm.model.layers[0].self_attn.o_proj.weight[0]\n",
    "    == reloaded_model.model_llm.model.layers[0].self_attn.o_proj.weight[0]\n",
    ")"
   ]
  },
  {
   "cell_type": "code",
   "execution_count": null,
   "metadata": {},
   "outputs": [],
   "source": [
    "# print(get_model_info(model))\n",
    "# print(\"--------------------------------\\n####\\n--------------------------------\")\n",
    "# print(get_model_info(reloaded_model))\n",
    "\n",
    "# Print named parameters names of reloaded_model\n",
    "for index, (name, param) in enumerate(model.named_modules()):\n",
    "    print(f\"{index}: {name}\")"
   ]
  },
  {
   "cell_type": "code",
   "execution_count": null,
   "metadata": {},
   "outputs": [],
   "source": [
    "# Compare the models\n",
    "print(\"Comparing original and reloaded models...\")\n",
    "models_match = compare_models(reloaded_model, model.base_model.model, verbose=True)"
   ]
  },
  {
   "cell_type": "code",
   "execution_count": null,
   "metadata": {},
   "outputs": [],
   "source": [
    "model.base_model.model.text_projection.modules_to_save.default.weight"
   ]
  },
  {
   "cell_type": "code",
   "execution_count": null,
   "metadata": {},
   "outputs": [],
   "source": [
    "model.base_model.model.text_projection.original_module.weight"
   ]
  },
  {
   "cell_type": "code",
   "execution_count": null,
   "metadata": {},
   "outputs": [],
   "source": [
    "dummy_text = \"This is a test protein sequence text\"\n",
    "dummy_protein = \"MLKFVVVLAAVLSLYAYAPAFEVHNKKNVLMQRVGETLRISDRYLYQTLSKPYKVTLKTLDGHEIFEVVGEAPVTFRFKDKERPVVVASPEHVVGIVAVHNGKIYARNLYIQNISIVSAGGQHSYSGLSWRYNQPNDGKVTDYF\"\n",
    "print(len(dummy_protein))\n",
    "dummy_protein = \" \".join(list(re.sub(r\"[UZOB]\", \"X\", dummy_protein)))\n",
    "print(len(dummy_protein))\n",
    "\n",
    "text_tokens = tokenizer_llm(dummy_text, return_tensors=\"pt\", padding=False, truncation=False)\n",
    "protein_tokens = tokenizer_plm(dummy_protein, return_tensors=\"pt\", padding=False, truncation=False)\n",
    "\n",
    "text_tokens = {k: v.to(model.device) for k, v in text_tokens.items()}\n",
    "protein_tokens = {k: v.to(model.device) for k, v in protein_tokens.items()}\n",
    "\n",
    "print(text_tokens[\"input_ids\"])\n",
    "print(protein_tokens)\n",
    "\n",
    "model.eval()\n",
    "with torch.no_grad():\n",
    "    text_emb_orig = model(input_ids_text=text_tokens[\"input_ids\"], attention_mask_text=text_tokens[\"attention_mask\"])\n",
    "    protein_emb_orig = model(\n",
    "        input_ids_sequence=protein_tokens[\"input_ids\"], attention_mask_sequence=protein_tokens[\"attention_mask\"]\n",
    "    )\n",
    "\n",
    "reloaded_model_fresh.eval()\n",
    "with torch.no_grad():\n",
    "    text_emb_reload = reloaded_model_fresh(\n",
    "        input_ids_text=text_tokens[\"input_ids\"], attention_mask_text=text_tokens[\"attention_mask\"]\n",
    "    )\n",
    "    protein_emb_reload = reloaded_model_fresh(\n",
    "        input_ids_sequence=protein_tokens[\"input_ids\"], attention_mask_sequence=protein_tokens[\"attention_mask\"]\n",
    "    )\n",
    "\n",
    "\n",
    "text_match = torch.allclose(text_emb_orig.proj_text_embeds, text_emb_reload.proj_text_embeds, rtol=1e-4, atol=1e-4)\n",
    "protein_match = torch.allclose(\n",
    "    protein_emb_orig.proj_protein_embeds, protein_emb_reload.proj_protein_embeds, rtol=1e-4, atol=1e-4\n",
    ")\n",
    "\n",
    "text_exact_match = torch.equal(text_emb_orig.proj_text_embeds, text_emb_reload.proj_text_embeds)\n",
    "protein_exact_match = torch.equal(protein_emb_orig.proj_protein_embeds, protein_emb_reload.proj_protein_embeds)\n",
    "\n",
    "print(f\"Text embeddings match: {text_match}\")\n",
    "print(f\"Protein embeddings match: {protein_match}\")\n",
    "print(f\"Text embeddings exact match: {text_exact_match}\")\n",
    "print(f\"Protein embeddings exact match: {protein_exact_match}\")\n",
    "\n",
    "print(\"\\nSample text embeddings (first 5 dimensions):\")\n",
    "print(\"Original:\", text_emb_orig.proj_text_embeds[0, :2, :10])\n",
    "print(\"Reloaded:\", text_emb_reload.proj_text_embeds[0, :2, :10])\n",
    "\n",
    "print(\"\\nSample protein embeddings (first 5 dimensions):\")\n",
    "print(\"Original:\", protein_emb_orig.proj_protein_embeds[0, :2, :10])\n",
    "print(\"Reloaded:\", protein_emb_reload.proj_protein_embeds[0, :2, :10])"
   ]
  },
  {
   "cell_type": "code",
   "execution_count": null,
   "metadata": {},
   "outputs": [],
   "source": [
    "# Calculate cosine similarity between protein and text projections\n",
    "def cosine_similarity(a, b):\n",
    "    # Mean pool across sequence length dimension if needed\n",
    "    if len(a.shape) > 2:\n",
    "        a = torch.mean(a, dim=1)\n",
    "    if len(b.shape) > 2:\n",
    "        b = torch.mean(b, dim=1)\n",
    "\n",
    "    # Normalize vectors\n",
    "    a_norm = torch.nn.functional.normalize(a, p=2, dim=-1)\n",
    "    b_norm = torch.nn.functional.normalize(b, p=2, dim=-1)\n",
    "\n",
    "    # Calculate similarity\n",
    "    similarity = torch.matmul(a_norm, b_norm.t())\n",
    "    return similarity\n",
    "\n",
    "\n",
    "# Calculate similarities for original model\n",
    "orig_similarity = cosine_similarity(text_emb_orig.proj_text_embeds, protein_emb_orig.proj_protein_embeds)\n",
    "\n",
    "# Calculate similarities for reloaded model\n",
    "reload_similarity = cosine_similarity(text_emb_reload.proj_text_embeds, protein_emb_reload.proj_protein_embeds)\n",
    "\n",
    "print(\"\\nCosine similarities:\")\n",
    "print(\"Original model:\", orig_similarity.item())\n",
    "print(\"Reloaded model:\", reload_similarity.item())\n",
    "print(\"Similarity difference:\", (orig_similarity - reload_similarity).item())\n"
   ]
  },
  {
   "cell_type": "markdown",
   "metadata": {},
   "source": [
    "---\n",
    "## Analysis"
   ]
  },
  {
   "cell_type": "code",
   "execution_count": 10,
   "metadata": {},
   "outputs": [],
   "source": [
    "# pd.DataFrame(trainer.state.log_history)"
   ]
  },
  {
   "cell_type": "code",
   "execution_count": 11,
   "metadata": {},
   "outputs": [],
   "source": [
    "# import matplotlib.pyplot as plt\n",
    "\n",
    "# log_df = pd.DataFrame(trainer.state.log_history)\n",
    "\n",
    "# fig, (ax1, ax2) = plt.subplots(2, 1, figsize=(12, 8))\n",
    "\n",
    "# ax1_twin = ax1.twinx()\n",
    "# log_df.plot(y='loss', ax=ax1, color='blue', label='Training Loss')\n",
    "# log_df.plot(y='grad_norm', ax=ax1_twin, color='red', label='Gradient Norm')\n",
    "# ax1.set_xlabel('Step')\n",
    "# ax1.set_ylabel('Loss', color='blue')\n",
    "# ax1_twin.set_ylabel('Gradient Norm', color='red')\n",
    "# ax1.set_title('Training Loss and Gradient Norm over Time')\n",
    "# ax1.grid(True)\n",
    "\n",
    "# lines1, labels1 = ax1.get_legend_handles_labels()\n",
    "# lines2, labels2 = ax1_twin.get_legend_handles_labels()\n",
    "# ax1_twin.legend(lines1 + lines2, labels1 + labels2, loc='upper right')\n",
    "\n",
    "# log_df.plot(y='learning_rate', ax=ax2, color='green', label='Learning Rate')\n",
    "# ax2.set_xlabel('Step')\n",
    "# ax2.set_ylabel('Learning Rate')\n",
    "# ax2.set_title('Learning Rate Schedule')\n",
    "# ax2.grid(True)\n",
    "# ax2.legend()\n",
    "\n",
    "# plt.tight_layout()\n",
    "# plt.show()\n"
   ]
  },
  {
   "cell_type": "code",
   "execution_count": 12,
   "metadata": {},
   "outputs": [],
   "source": [
    "# import os\n",
    "\n",
    "# os.makedirs(\"../tmp/models\", exist_ok=True)\n",
    "\n",
    "# log_df.to_csv(\"../tmp/models/training_logs.csv\", index=True)\n",
    "# print(\"Training logs saved to ../tmp/models/training_logs.csv\")\n"
   ]
  }
 ],
 "metadata": {
  "kernelspec": {
   "display_name": "Python 3",
   "language": "python",
   "name": "python3"
  },
  "language_info": {
   "codemirror_mode": {
    "name": "ipython",
    "version": 3
   },
   "file_extension": ".py",
   "mimetype": "text/x-python",
   "name": "python",
   "nbconvert_exporter": "python",
   "pygments_lexer": "ipython3",
   "version": "3.12.0"
  }
 },
 "nbformat": 4,
 "nbformat_minor": 2
}
