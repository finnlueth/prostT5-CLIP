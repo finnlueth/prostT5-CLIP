{
 "cells": [
  {
   "cell_type": "code",
   "execution_count": 1,
   "metadata": {},
   "outputs": [],
   "source": [
    "# !jupyter nbconvert --to python train_clip_model.ipynb --TagRemovePreprocessor.enabled=True --TagRemovePreprocessor.remove_cell_tags remove_cell"
   ]
  },
  {
   "cell_type": "code",
   "execution_count": null,
   "metadata": {},
   "outputs": [],
   "source": [
    "%reload_ext autoreload\n",
    "%autoreload 2\n",
    "\n",
    "import gc\n",
    "import os\n",
    "import re\n",
    "import random\n",
    "from datetime import datetime\n",
    "\n",
    "import numpy as np\n",
    "import pandas as pd\n",
    "import torch\n",
    "from datasets import Dataset, DatasetDict, load_from_disk\n",
    "from peft import (\n",
    "    LoraConfig,\n",
    "    get_peft_model,\n",
    ")\n",
    "from peft.utils.constants import TRANSFORMERS_MODELS_TO_LORA_TARGET_MODULES_MAPPING\n",
    "from transformers import (\n",
    "    AutoConfig,\n",
    "    AutoTokenizer,\n",
    "    CLIPConfig,\n",
    "    T5Tokenizer,\n",
    "    Trainer,\n",
    "    TrainingArguments,\n",
    ")\n",
    "\n",
    "from src.model.configuration_protein_clip import ProtT5CLIPConfig\n",
    "from src.model.data_collator_multi_input import DataCollatorForProtT5CLIP\n",
    "from src.model.modeling_protein_clip import ProtT5CLIP\n",
    "from src.model.trainer_protein_subset import ProteinSampleSubsetTrainer\n",
    "from src.model.metrics import BatchMetricsAccumulator, metrics_factory\n",
    "\n",
    "os.environ[\"CUDA_DEVICE_ORDER\"] = \"PCI_BUS_ID\"\n",
    "os.environ[\"CUDA_VISIBLE_DEVICES\"] = \"1\"\n",
    "\n",
    "# os.environ[\"HF_DATASETS_OFFLINE\"] = \"1\"\n",
    "# os.environ[\"HF_HUB_OFFLINE\"] = \"1\"\n",
    "\n",
    "pd.set_option(\"display.max_columns\", None)\n",
    "pd.set_option(\"display.max_rows\", None)\n",
    "torch.set_printoptions(profile=\"full\")\n",
    "\n",
    "VERBOSE = False\n",
    "\n",
    "project_name = \"protT5-CLIP\"\n",
    "custom_name = \"\"\n",
    "model_name_identifier = (\n",
    "    project_name + \"-\" + datetime.now().strftime(\"%Y-%m-%d-%H-%M-%S\") + (f\"-{custom_name}\" if custom_name else \"\")\n",
    ")\n",
    "\n",
    "USE_WANDB = False\n",
    "report_to = \"wandb\"\n",
    "if USE_WANDB:\n",
    "    import wandb\n",
    "\n",
    "    run = wandb.init(project=project_name, name=model_name_identifier)\n",
    "\n",
    "device = \"cuda:0\" if torch.cuda.is_available() else \"mps\" if torch.backends.mps.is_available() else \"cpu\"\n",
    "print(\"Using device:\", device)"
   ]
  },
  {
   "cell_type": "code",
   "execution_count": null,
   "metadata": {},
   "outputs": [],
   "source": [
    "plm_name = \"Rostlab/prot_t5_xl_uniref50\"\n",
    "llm_name = \"microsoft/Phi-3.5-mini-instruct\"\n",
    "\n",
    "plm_config = AutoConfig.from_pretrained(plm_name)\n",
    "llm_config = AutoConfig.from_pretrained(llm_name, trust_remote_code=True)\n",
    "\n",
    "model_config = ProtT5CLIPConfig(\n",
    "    name_or_path_plm=plm_name,\n",
    "    name_or_path_llm=llm_name,\n",
    "    plm_config=plm_config,\n",
    "    llm_config=llm_config,\n",
    "    output_hidden_states=True,\n",
    "    output_attentions=True,\n",
    "    return_dict=True,\n",
    "    projection_dim=1024,\n",
    "    logit_scale_init_value=2.6592,\n",
    "    device=device,\n",
    ")\n",
    "\n",
    "model = ProtT5CLIP(model_config)\n",
    "model.to(device)\n",
    "# model.to(torch.bfloat16)\n",
    "\n",
    "if VERBOSE:\n",
    "    for name, param in model.named_parameters():\n",
    "        print(f\"{name:<96} {param.device}, {param.dtype}, {param.nelement() * param.element_size() / (1024**2):.2f} MB, {param.requires_grad}\")\n",
    "        \n",
    "if torch.cuda.is_available():\n",
    "    torch.cuda.empty_cache()\n",
    "    gc.collect()\n",
    "\n",
    "print(\"Loaded model...\")"
   ]
  },
  {
   "cell_type": "code",
   "execution_count": null,
   "metadata": {},
   "outputs": [],
   "source": [
    "target_modules = []\n",
    "modules_to_save = [\"protein_projection\", \"text_projection\", \"logit_scale\"]\n",
    "\n",
    "target_modules += TRANSFORMERS_MODELS_TO_LORA_TARGET_MODULES_MAPPING[\"t5\"]\n",
    "# target_modules += [\"q\", \"k\", \"v\", \"o\"]\n",
    "# target_modules += [f\"model_plm.encoder.block.{x}\" for x in TRANSFORMERS_MODELS_TO_LORA_TARGET_MODULES_MAPPING['t5']]\n",
    "modules_to_save += model.loading_info_plm[\"missing_keys\"]\n",
    "\n",
    "target_modules += [\"qkv_proj\"]\n",
    "# target_modules += [\"qkv_proj\", \"o_proj\"]\n",
    "# target_modules += TRANSFORMERS_MODELS_TO_LORA_TARGET_MODULES_MAPPING['phi']\n",
    "# target_modules += [f\"model_llm.model.{x}\" for x  in TRANSFORMERS_MODELS_TO_LORA_TARGET_MODULES_MAPPING['phi']]\n",
    "modules_to_save += model.loading_info_llm[\"missing_keys\"]\n",
    "\n",
    "lora_config = LoraConfig(\n",
    "    inference_mode=False,\n",
    "    r=8,\n",
    "    lora_alpha=16,\n",
    "    lora_dropout=0.05,\n",
    "    target_modules=target_modules,\n",
    "    bias=\"none\",\n",
    "    modules_to_save=modules_to_save,\n",
    "    use_rslora=True,\n",
    "    # layers_to_transform\n",
    "    # use_dora=True,\n",
    ")\n",
    "\n",
    "model = get_peft_model(model, lora_config)\n",
    "\n",
    "if VERBOSE:\n",
    "    for name, param in model.named_parameters():\n",
    "        print(f\"{name:<96} {param.device}, {param.dtype}, {param.nelement() * param.element_size() / (1024**2):.2f} MB, {param.requires_grad}\")\n",
    "\n",
    "print(\"target_modules:\", target_modules)\n",
    "print(\"modules_to_save:\", modules_to_save)\n",
    "model.print_trainable_parameters()"
   ]
  },
  {
   "cell_type": "code",
   "execution_count": null,
   "metadata": {},
   "outputs": [],
   "source": [
    "tokenizer_plm = T5Tokenizer.from_pretrained(\n",
    "    pretrained_model_name_or_path=model_config.name_or_path_plm,\n",
    "    do_lower_case=False,\n",
    "    use_fast=True,\n",
    "    legacy=False,\n",
    ")\n",
    "\n",
    "tokenizer_llm = AutoTokenizer.from_pretrained(\n",
    "    pretrained_model_name_or_path=model_config.name_or_path_llm,\n",
    ")\n",
    "\n",
    "dataset_path = \"../tmp/data/train_val_GO_skimmed\"\n",
    "dataset_path_processed = \"../tmp/data/train_val_GO_skimmed_processed\"\n",
    "\n",
    "if not os.path.exists(dataset_path_processed):\n",
    "    print(\"Processing dataset...\")\n",
    "    dataset = load_from_disk(dataset_path)\n",
    "\n",
    "    for split in dataset:\n",
    "        print(f\"Processing {split}, {len(dataset[split])} items.\")\n",
    "\n",
    "        dataset[split] = dataset[split].filter(lambda x: len(x[\"sequence\"]) < 256)\n",
    "        processed_sequences = [\" \".join(list(re.sub(r\"[UZOB]\", \"X\", seq))) for seq in dataset[split][\"sequence\"]]\n",
    "        dataset[split] = dataset[split].add_column(\"sequence_processed\", processed_sequences)\n",
    "\n",
    "        tknz_plm = tokenizer_plm(text=dataset[split][\"sequence_processed\"], padding=False, truncation=False)\n",
    "        tknz_llm = tokenizer_llm(text=dataset[split][\"GO Sentence\"], padding=False, truncation=False)\n",
    "\n",
    "        dataset[split] = dataset[split].add_column(\"input_ids_sequence\", tknz_plm[\"input_ids\"])\n",
    "        dataset[split] = dataset[split].add_column(\"attention_mask_sequence\", tknz_plm[\"attention_mask\"])\n",
    "        dataset[split] = dataset[split].add_column(\"input_ids_text\", tknz_llm[\"input_ids\"])\n",
    "        dataset[split] = dataset[split].add_column(\"attention_mask_text\", tknz_llm[\"attention_mask\"])\n",
    "\n",
    "    dataset.save_to_disk(dataset_path_processed)\n",
    "else:\n",
    "    print(\"Loading dataset from disk...\")\n",
    "    dataset = load_from_disk(dataset_path_processed)\n",
    "\n",
    "print(dataset)\n",
    "print(dataset[\"train\"][0])"
   ]
  },
  {
   "cell_type": "code",
   "execution_count": null,
   "metadata": {},
   "outputs": [],
   "source": [
    "def compute_metrics_dummy(eval_preds):\n",
    "    print(eval_preds)\n",
    "    print(type(eval_preds))\n",
    "    return {\n",
    "        \"loss\": 1.0,\n",
    "        \"accuracy\": 0.5,\n",
    "        \"precision\": 0.5,\n",
    "        \"recall\": 0.5,\n",
    "        \"f1\": 0.5,\n",
    "        \"eval_loss\": 10,\n",
    "    }\n",
    "\n",
    "\n",
    "def compute_metrics_dummy_2(eval_preds, compute_result: bool = False):\n",
    "    raise Exception(\"test\")\n",
    "    print(eval_preds)\n",
    "    print(type(eval_preds))\n",
    "    return {\n",
    "        \"loss\": 1.0,\n",
    "        \"accuracy\": 0.5,\n",
    "        \"precision\": 0.5,\n",
    "        \"recall\": 0.5,\n",
    "        \"f1\": 0.5,\n",
    "        \"eval_loss\": 10,\n",
    "    }"
   ]
  },
  {
   "cell_type": "code",
   "execution_count": null,
   "metadata": {},
   "outputs": [],
   "source": [
    "data_collator = DataCollatorForProtT5CLIP(\n",
    "    tokenizer_plm=tokenizer_plm, tokenizer_llm=tokenizer_llm, padding=True, pad_to_multiple_of=8\n",
    ")\n",
    "\n",
    "training_args = TrainingArguments(\n",
    "    output_dir=f\"../tmp/models/checkpoints/{model_name_identifier}\",\n",
    "    run_name=run.name if USE_WANDB else None,\n",
    "    report_to=report_to,\n",
    "    learning_rate=1e-3,\n",
    "    per_device_train_batch_size=16,\n",
    "    num_train_epochs=1,\n",
    "    # do_train=True,\n",
    "    # do_eval=True,\n",
    "    eval_strategy=\"steps\",\n",
    "    eval_steps=1,\n",
    "    per_device_eval_batch_size=16,\n",
    "    eval_on_start=True,\n",
    "    batch_eval_metrics=True,\n",
    "    save_strategy=\"steps\",\n",
    "    save_steps=300,\n",
    "    save_total_limit=5,\n",
    "    # load_best_model_at_end=True,\n",
    "    remove_unused_columns=False,\n",
    "    label_names=['input_ids_sequence', 'attention_mask_sequence', 'input_ids_text', 'attention_mask_text'],\n",
    "    logging_strategy=\"steps\",\n",
    "    # logging_first_step=True,\n",
    "    logging_steps=1,\n",
    "    seed=69420,\n",
    ")\n",
    "\n",
    "compute_metrics = metrics_factory()\n",
    "\n",
    "trainer = ProteinSampleSubsetTrainer(\n",
    "    model=model,\n",
    "    args=training_args,\n",
    "    train_dataset=dataset[\"train\"].select(range(100)),\n",
    "    eval_dataset=dataset[\"test\"],#.select(random.sample(range(len(dataset[\"test\"])), 20)),\n",
    "    data_collator=data_collator,\n",
    "    compute_metrics=compute_metrics_dummy_2, #todo !\n",
    "    eval_sample_size=20,\n",
    ")"
   ]
  },
  {
   "cell_type": "code",
   "execution_count": null,
   "metadata": {},
   "outputs": [],
   "source": [
    "trainer.evaluate(ignore_keys=[\"logits_per_protein\", \"logits_per_text\", \"protein_embeds\", \"text_embeds\", \"protein_outputs\", \"text_outputs\"])\n",
    "pd.DataFrame(trainer.state.log_history)"
   ]
  },
  {
   "cell_type": "code",
   "execution_count": null,
   "metadata": {},
   "outputs": [],
   "source": [
    "# compute_metrics = metrics_factory()\n",
    "# compute_metrics((123, 234), False)"
   ]
  },
  {
   "cell_type": "code",
   "execution_count": null,
   "metadata": {},
   "outputs": [],
   "source": [
    "trainer.train()\n",
    "\n",
    "gc.collect()\n",
    "if torch.cuda.is_available():\n",
    "    torch.cuda.empty_cache()\n",
    "if torch.backends.mps.is_available():\n",
    "    torch.mps.empty_cache()"
   ]
  },
  {
   "cell_type": "code",
   "execution_count": null,
   "metadata": {},
   "outputs": [],
   "source": [
    "pd.DataFrame(trainer.state.log_history)"
   ]
  },
  {
   "cell_type": "code",
   "execution_count": null,
   "metadata": {},
   "outputs": [],
   "source": [
    "model.logit_scale.modules_to_save.default.scale"
   ]
  },
  {
   "cell_type": "code",
   "execution_count": null,
   "metadata": {},
   "outputs": [],
   "source": [
    "model.logit_scale.original_module.scale"
   ]
  },
  {
   "cell_type": "markdown",
   "metadata": {},
   "source": [
    "---\n",
    "# Model saving"
   ]
  },
  {
   "cell_type": "code",
   "execution_count": null,
   "metadata": {},
   "outputs": [],
   "source": [
    "model_save_path = f\"../tmp/models/{model_name_identifier}\"\n",
    "model.save_pretrained(\n",
    "    model_save_path,\n",
    ")\n",
    "print(\"Model saved to:\", model_save_path)"
   ]
  },
  {
   "cell_type": "markdown",
   "metadata": {},
   "source": [
    "---\n",
    "## Model Sanity Checks"
   ]
  },
  {
   "cell_type": "code",
   "execution_count": 11,
   "metadata": {},
   "outputs": [],
   "source": [
    "from src.model.utils import compare_model_parameters_state_dicts, get_model_info"
   ]
  },
  {
   "cell_type": "code",
   "execution_count": null,
   "metadata": {},
   "outputs": [],
   "source": [
    "# model_save_path = \"../tmp/models/protT5-CLIP-2024-12-28-03-12-32\"\n",
    "\n",
    "reloaded_model = ProtT5CLIP(model_config)\n",
    "reloaded_model.load_adapter(model_save_path)\n",
    "reloaded_model.to(device)\n",
    "# reloaded_model.to(torch.bfloat16)\n",
    "print(\"Loading adapter from:\", model_save_path)"
   ]
  },
  {
   "cell_type": "code",
   "execution_count": null,
   "metadata": {},
   "outputs": [],
   "source": [
    "reloaded_model.logit_scale.modules_to_save.default.scale"
   ]
  },
  {
   "cell_type": "code",
   "execution_count": null,
   "metadata": {},
   "outputs": [],
   "source": [
    "reloaded_model.logit_scale.original_module.scale"
   ]
  },
  {
   "cell_type": "code",
   "execution_count": null,
   "metadata": {},
   "outputs": [],
   "source": [
    "reloaded_model_fresh = ProtT5CLIP(model_config)\n",
    "reloaded_model_fresh.to(device)\n",
    "# reloaded_model_fresh.to(torch.bfloat16)\n",
    "print(\"Loading fresh model.\")"
   ]
  },
  {
   "cell_type": "code",
   "execution_count": null,
   "metadata": {},
   "outputs": [],
   "source": [
    "display(\"model\")\n",
    "display(model.base_model.model)\n",
    "display(\"reloaded_model\")\n",
    "display(reloaded_model)\n",
    "display(\"reloaded_model_fresh\")\n",
    "display(reloaded_model_fresh)"
   ]
  },
  {
   "cell_type": "code",
   "execution_count": 29,
   "metadata": {},
   "outputs": [],
   "source": [
    "# model = model.merge_and_unload()\n",
    "# reloaded_model = reloaded_model.merge_and_unload()\n",
    "# model.to(\"cpu\")\n",
    "# reloaded_model.to(\"cpu\")"
   ]
  },
  {
   "cell_type": "code",
   "execution_count": 30,
   "metadata": {},
   "outputs": [],
   "source": [
    "# model.protein_projection.modules_to_save.default.weight[0]\n",
    "# reloaded_model.protein_projection.modules_to_save.default.weight[0]\n",
    "# model.text_projection.modules_to_save.default.weight[0]\n",
    "# reloaded_model.text_projection.modules_to_save.default.weight[0]\n",
    "# model.logit_scale\n",
    "# reloaded_model.logit_scale"
   ]
  },
  {
   "cell_type": "code",
   "execution_count": null,
   "metadata": {},
   "outputs": [],
   "source": [
    "all(\n",
    "    model.model_llm.model.layers[0].self_attn.o_proj.weight[0]\n",
    "    == reloaded_model.model_llm.model.layers[0].self_attn.o_proj.weight[0]\n",
    ")"
   ]
  },
  {
   "cell_type": "code",
   "execution_count": null,
   "metadata": {},
   "outputs": [],
   "source": [
    "# print(get_model_info(model))\n",
    "# print(\"--------------------------------\\n####\\n--------------------------------\")\n",
    "# print(get_model_info(reloaded_model))\n",
    "\n",
    "# Print named parameters names of reloaded_model\n",
    "for index, (name, param) in enumerate(model.named_modules()):\n",
    "    print(f\"{index}: {name}\")"
   ]
  },
  {
   "cell_type": "code",
   "execution_count": null,
   "metadata": {},
   "outputs": [],
   "source": [
    "# Compare the models\n",
    "print(\"Comparing original and reloaded models...\")\n",
    "models_match = compare_models(reloaded_model, model.base_model.model, verbose=True)"
   ]
  },
  {
   "cell_type": "code",
   "execution_count": null,
   "metadata": {},
   "outputs": [],
   "source": [
    "model.base_model.model.text_projection.modules_to_save.default.weight"
   ]
  },
  {
   "cell_type": "code",
   "execution_count": null,
   "metadata": {},
   "outputs": [],
   "source": [
    "model.base_model.model.text_projection.original_module.weight"
   ]
  },
  {
   "cell_type": "code",
   "execution_count": null,
   "metadata": {},
   "outputs": [],
   "source": [
    "dummy_text = \"This is a test protein sequence text\"\n",
    "dummy_protein = \"MLKFVVVLAAVLSLYAYAPAFEVHNKKNVLMQRVGETLRISDRYLYQTLSKPYKVTLKTLDGHEIFEVVGEAPVTFRFKDKERPVVVASPEHVVGIVAVHNGKIYARNLYIQNISIVSAGGQHSYSGLSWRYNQPNDGKVTDYF\"\n",
    "print(len(dummy_protein))\n",
    "dummy_protein = \" \".join(list(re.sub(r\"[UZOB]\", \"X\", dummy_protein)))\n",
    "print(len(dummy_protein))\n",
    "\n",
    "text_tokens = tokenizer_llm(dummy_text, return_tensors=\"pt\", padding=False, truncation=False)\n",
    "protein_tokens = tokenizer_plm(dummy_protein, return_tensors=\"pt\", padding=False, truncation=False)\n",
    "\n",
    "text_tokens = {k: v.to(model.device) for k, v in text_tokens.items()}\n",
    "protein_tokens = {k: v.to(model.device) for k, v in protein_tokens.items()}\n",
    "\n",
    "print(text_tokens[\"input_ids\"])\n",
    "print(protein_tokens)\n",
    "\n",
    "model.eval()\n",
    "with torch.no_grad():\n",
    "    text_emb_orig = model(input_ids_text=text_tokens[\"input_ids\"], attention_mask_text=text_tokens[\"attention_mask\"])\n",
    "    protein_emb_orig = model(\n",
    "        input_ids_sequence=protein_tokens[\"input_ids\"], attention_mask_sequence=protein_tokens[\"attention_mask\"]\n",
    "    )\n",
    "\n",
    "reloaded_model_fresh.eval()\n",
    "with torch.no_grad():\n",
    "    text_emb_reload = reloaded_model_fresh(\n",
    "        input_ids_text=text_tokens[\"input_ids\"], attention_mask_text=text_tokens[\"attention_mask\"]\n",
    "    )\n",
    "    protein_emb_reload = reloaded_model_fresh(\n",
    "        input_ids_sequence=protein_tokens[\"input_ids\"], attention_mask_sequence=protein_tokens[\"attention_mask\"]\n",
    "    )\n",
    "\n",
    "\n",
    "text_match = torch.allclose(text_emb_orig.proj_text_embeds, text_emb_reload.proj_text_embeds, rtol=1e-4, atol=1e-4)\n",
    "protein_match = torch.allclose(\n",
    "    protein_emb_orig.proj_protein_embeds, protein_emb_reload.proj_protein_embeds, rtol=1e-4, atol=1e-4\n",
    ")\n",
    "\n",
    "text_exact_match = torch.equal(text_emb_orig.proj_text_embeds, text_emb_reload.proj_text_embeds)\n",
    "protein_exact_match = torch.equal(protein_emb_orig.proj_protein_embeds, protein_emb_reload.proj_protein_embeds)\n",
    "\n",
    "print(f\"Text embeddings match: {text_match}\")\n",
    "print(f\"Protein embeddings match: {protein_match}\")\n",
    "print(f\"Text embeddings exact match: {text_exact_match}\")\n",
    "print(f\"Protein embeddings exact match: {protein_exact_match}\")\n",
    "\n",
    "print(\"\\nSample text embeddings (first 5 dimensions):\")\n",
    "print(\"Original:\", text_emb_orig.proj_text_embeds[0, :2, :10])\n",
    "print(\"Reloaded:\", text_emb_reload.proj_text_embeds[0, :2, :10])\n",
    "\n",
    "print(\"\\nSample protein embeddings (first 5 dimensions):\")\n",
    "print(\"Original:\", protein_emb_orig.proj_protein_embeds[0, :2, :10])\n",
    "print(\"Reloaded:\", protein_emb_reload.proj_protein_embeds[0, :2, :10])"
   ]
  },
  {
   "cell_type": "code",
   "execution_count": null,
   "metadata": {},
   "outputs": [],
   "source": [
    "# Calculate cosine similarity between protein and text projections\n",
    "def cosine_similarity(a, b):\n",
    "    # Mean pool across sequence length dimension if needed\n",
    "    if len(a.shape) > 2:\n",
    "        a = torch.mean(a, dim=1)\n",
    "    if len(b.shape) > 2:\n",
    "        b = torch.mean(b, dim=1)\n",
    "\n",
    "    # Normalize vectors\n",
    "    a_norm = torch.nn.functional.normalize(a, p=2, dim=-1)\n",
    "    b_norm = torch.nn.functional.normalize(b, p=2, dim=-1)\n",
    "\n",
    "    # Calculate similarity\n",
    "    similarity = torch.matmul(a_norm, b_norm.t())\n",
    "    return similarity\n",
    "\n",
    "\n",
    "# Calculate similarities for original model\n",
    "orig_similarity = cosine_similarity(text_emb_orig.proj_text_embeds, protein_emb_orig.proj_protein_embeds)\n",
    "\n",
    "# Calculate similarities for reloaded model\n",
    "reload_similarity = cosine_similarity(text_emb_reload.proj_text_embeds, protein_emb_reload.proj_protein_embeds)\n",
    "\n",
    "print(\"\\nCosine similarities:\")\n",
    "print(\"Original model:\", orig_similarity.item())\n",
    "print(\"Reloaded model:\", reload_similarity.item())\n",
    "print(\"Similarity difference:\", (orig_similarity - reload_similarity).item())\n"
   ]
  },
  {
   "cell_type": "markdown",
   "metadata": {},
   "source": [
    "---\n",
    "## Analysis"
   ]
  },
  {
   "cell_type": "code",
   "execution_count": 10,
   "metadata": {},
   "outputs": [],
   "source": [
    "# pd.DataFrame(trainer.state.log_history)"
   ]
  },
  {
   "cell_type": "code",
   "execution_count": 11,
   "metadata": {},
   "outputs": [],
   "source": [
    "# import matplotlib.pyplot as plt\n",
    "\n",
    "# log_df = pd.DataFrame(trainer.state.log_history)\n",
    "\n",
    "# fig, (ax1, ax2) = plt.subplots(2, 1, figsize=(12, 8))\n",
    "\n",
    "# ax1_twin = ax1.twinx()\n",
    "# log_df.plot(y='loss', ax=ax1, color='blue', label='Training Loss')\n",
    "# log_df.plot(y='grad_norm', ax=ax1_twin, color='red', label='Gradient Norm')\n",
    "# ax1.set_xlabel('Step')\n",
    "# ax1.set_ylabel('Loss', color='blue')\n",
    "# ax1_twin.set_ylabel('Gradient Norm', color='red')\n",
    "# ax1.set_title('Training Loss and Gradient Norm over Time')\n",
    "# ax1.grid(True)\n",
    "\n",
    "# lines1, labels1 = ax1.get_legend_handles_labels()\n",
    "# lines2, labels2 = ax1_twin.get_legend_handles_labels()\n",
    "# ax1_twin.legend(lines1 + lines2, labels1 + labels2, loc='upper right')\n",
    "\n",
    "# log_df.plot(y='learning_rate', ax=ax2, color='green', label='Learning Rate')\n",
    "# ax2.set_xlabel('Step')\n",
    "# ax2.set_ylabel('Learning Rate')\n",
    "# ax2.set_title('Learning Rate Schedule')\n",
    "# ax2.grid(True)\n",
    "# ax2.legend()\n",
    "\n",
    "# plt.tight_layout()\n",
    "# plt.show()\n"
   ]
  },
  {
   "cell_type": "code",
   "execution_count": 12,
   "metadata": {},
   "outputs": [],
   "source": [
    "# import os\n",
    "\n",
    "# os.makedirs(\"../tmp/models\", exist_ok=True)\n",
    "\n",
    "# log_df.to_csv(\"../tmp/models/training_logs.csv\", index=True)\n",
    "# print(\"Training logs saved to ../tmp/models/training_logs.csv\")\n"
   ]
  }
 ],
 "metadata": {
  "kernelspec": {
   "display_name": "Python 3",
   "language": "python",
   "name": "python3"
  },
  "language_info": {
   "codemirror_mode": {
    "name": "ipython",
    "version": 3
   },
   "file_extension": ".py",
   "mimetype": "text/x-python",
   "name": "python",
   "nbconvert_exporter": "python",
   "pygments_lexer": "ipython3",
   "version": "3.12.0"
  }
 },
 "nbformat": 4,
 "nbformat_minor": 2
}
