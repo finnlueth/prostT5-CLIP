{
 "cells": [
  {
   "cell_type": "code",
   "execution_count": 1,
   "metadata": {},
   "outputs": [],
   "source": [
    "%reload_ext autoreload\n",
    "%autoreload 2\n",
    "\n",
    "import os\n",
    "os.environ[\"CUDA_DEVICE_ORDER\"] = \"PCI_BUS_ID\"\n",
    "os.environ[\"CUDA_VISIBLE_DEVICES\"]= \"3\"\n",
    "\n",
    "import pandas as pd\n",
    "from datasets import load_from_disk\n",
    "from transformers import TrainingArguments\n",
    "from src.model.trainer_protein_subset import ProteinSampleSubsetTrainer\n",
    "import torch\n",
    "from torch import nn"
   ]
  },
  {
   "cell_type": "code",
   "execution_count": 2,
   "metadata": {},
   "outputs": [],
   "source": [
    "if os.path.exists(\"../tmp/data/train_val_GO_small_subset\"):\n",
    "    dataset_path = \"../tmp/data/train_val_GO_small_subset\"\n",
    "    dataset = load_from_disk(dataset_path)\n",
    "else:\n",
    "    dataset_path = \"../tmp/data/train_val_GO\"\n",
    "    dataset = load_from_disk(dataset_path)\n",
    "    dataset = dataset[\"train\"]\n",
    "    dataset = dataset.select(range(2000))\n",
    "    dataset.save_to_disk(\"../tmp/data/train_val_GO_small_subset\")"
   ]
  },
  {
   "cell_type": "code",
   "execution_count": 12,
   "metadata": {},
   "outputs": [],
   "source": [
    "class SimpleModel(nn.Module):\n",
    "    def __init__(self):\n",
    "        super(SimpleModel, self).__init__()\n",
    "        self.dummy_param = nn.Parameter(torch.zeros(1))\n",
    "\n",
    "    def forward(self, *args, **kwargs):\n",
    "        # print(args)\n",
    "        # print(kwargs)\n",
    "        return {\"loss\": torch.tensor(0.0)} \n",
    "\n",
    "model = SimpleModel()\n",
    "\n",
    "def data_collator(features):\n",
    "    return features"
   ]
  },
  {
   "cell_type": "code",
   "execution_count": null,
   "metadata": {},
   "outputs": [],
   "source": [
    "dataset[0]"
   ]
  },
  {
   "cell_type": "code",
   "execution_count": null,
   "metadata": {},
   "outputs": [],
   "source": [
    "training_args = TrainingArguments(\n",
    "    output_dir=\"./test_output\",\n",
    "    per_device_train_batch_size=2,\n",
    "    auto_find_batch_size=True,\n",
    "    num_train_epochs=5,\n",
    "    logging_dir=\"./logs\",\n",
    "    logging_steps=1,\n",
    "    remove_unused_columns=False,\n",
    ")\n",
    "\n",
    "trainer = ProteinSampleSubsetTrainer(\n",
    "    model=model,\n",
    "    args=training_args,\n",
    "    train_dataset=dataset,\n",
    "    eval_dataset=None,  # Not testing evaluation here\n",
    "    tokenizer=None,\n",
    "    data_collator=data_collator,\n",
    ")"
   ]
  },
  {
   "cell_type": "code",
   "execution_count": null,
   "metadata": {},
   "outputs": [],
   "source": [
    "trainer.train()"
   ]
  },
  {
   "cell_type": "code",
   "execution_count": 7,
   "metadata": {},
   "outputs": [],
   "source": [
    "# len(next(iter(trainer.get_train_dataloader())))"
   ]
  },
  {
   "cell_type": "code",
   "execution_count": 8,
   "metadata": {},
   "outputs": [],
   "source": [
    "ttt = [x for x in trainer.get_train_dataloader()]"
   ]
  },
  {
   "cell_type": "code",
   "execution_count": null,
   "metadata": {},
   "outputs": [],
   "source": [
    "sum([len(x) for x in ttt])"
   ]
  },
  {
   "cell_type": "code",
   "execution_count": null,
   "metadata": {},
   "outputs": [],
   "source": [
    "print(len(ttt))\n",
    "print()\n",
    "for x in ttt:\n",
    "    print(len(x))"
   ]
  },
  {
   "cell_type": "code",
   "execution_count": null,
   "metadata": {},
   "outputs": [],
   "source": [
    "[x['identifier'] for x in ttt[0]] + [x['identifier'] for x in ttt[1]]"
   ]
  },
  {
   "cell_type": "code",
   "execution_count": null,
   "metadata": {},
   "outputs": [],
   "source": [
    "# len(set([x['identifier'] for batch in ttt for x in batch]))"
   ]
  },
  {
   "cell_type": "code",
   "execution_count": null,
   "metadata": {},
   "outputs": [],
   "source": [
    "output_data = []\n",
    "for epoch in range(int(training_args.num_train_epochs)):\n",
    "    dataloader = trainer.get_train_dataloader()\n",
    "    for batch in dataloader:\n",
    "        for example in batch:\n",
    "            output_data.append({\n",
    "                \"epoch\": epoch,\n",
    "                \"identifier\": example[\"identifier\"],\n",
    "                \"GO term\": example[\"term\"]\n",
    "            })\n",
    "        break\n"
   ]
  },
  {
   "cell_type": "code",
   "execution_count": null,
   "metadata": {},
   "outputs": [],
   "source": [
    "df = pd.DataFrame(output_data)\n",
    "display(df)"
   ]
  },
  {
   "cell_type": "code",
   "execution_count": null,
   "metadata": {},
   "outputs": [],
   "source": [
    "df['identifier'].value_counts()"
   ]
  }
 ],
 "metadata": {
  "kernelspec": {
   "display_name": "Python 3",
   "language": "python",
   "name": "python3"
  },
  "language_info": {
   "codemirror_mode": {
    "name": "ipython",
    "version": 3
   },
   "file_extension": ".py",
   "mimetype": "text/x-python",
   "name": "python",
   "nbconvert_exporter": "python",
   "pygments_lexer": "ipython3",
   "version": "3.12.0"
  }
 },
 "nbformat": 4,
 "nbformat_minor": 2
}
