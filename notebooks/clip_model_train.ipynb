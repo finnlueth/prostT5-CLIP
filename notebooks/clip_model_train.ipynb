{
 "cells": [
  {
   "cell_type": "code",
   "execution_count": 2,
   "metadata": {},
   "outputs": [],
   "source": [
    "%reload_ext autoreload\n",
    "%autoreload 2\n",
    "\n",
    "import os\n",
    "os.environ[\"CUDA_DEVICE_ORDER\"] = \"PCI_BUS_ID\"\n",
    "os.environ[\"CUDA_VISIBLE_DEVICES\"]= \"1\"\n",
    "\n",
    "from src.model.model import ProtT5CLIP\n",
    "from src.model.data_collator import DataCollatorForProtT5CLIP\n",
    "\n",
    "from transformers import AutoTokenizer\n",
    "from datasets import Dataset, DatasetDict, load_from_disk\n",
    "\n",
    "import torch\n",
    "import re\n",
    "import pandas as pd\n",
    "import numpy as np\n",
    "import gc\n",
    "from datetime import datetime\n",
    "\n",
    "from transformers import (\n",
    "    T5Tokenizer,\n",
    "    Trainer,\n",
    "    TrainingArguments,\n",
    "    AutoConfig,\n",
    "    CLIPConfig,\n",
    "    PretrainedConfig\n",
    "    \n",
    ")\n",
    "\n",
    "from peft import (\n",
    "    LoraConfig,\n",
    "    get_peft_model,\n",
    ")\n",
    "\n",
    "device = \"cuda:0\" if torch.cuda.is_available() else \"mps\" if torch.backends.mps.is_available() else \"cpu\"\n",
    "\n",
    "\n",
    "USE_WANDB = False\n",
    "\n",
    "if USE_WANDB:\n",
    "    import wandb\n",
    "    run = wandb.init(project=\"protT5-CLIP\", name=f\"protT5-CLIP-{datetime.now().strftime('%Y-%m-%d-%H-%M-%S')}\")\n",
    "    \n",
    "report_to = \"wandb\" if USE_WANDB else None\n"
   ]
  },
  {
   "cell_type": "code",
   "execution_count": 3,
   "metadata": {},
   "outputs": [],
   "source": [
    "plm_config = AutoConfig.from_pretrained(\"Rostlab/prot_t5_xl_uniref50\")\n",
    "llm_config = AutoConfig.from_pretrained(\"microsoft/Phi-3.5-mini-instruct\", trust_remote_code=True)\n",
    "\n",
    "model_config = PretrainedConfig(\n",
    "    name_or_path_plm = \"Rostlab/prot_t5_xl_uniref50\",\n",
    "    name_or_path_llm = \"microsoft/Phi-3.5-mini-instruct\",\n",
    "    plm_config=plm_config,\n",
    "    llm_config=llm_config,\n",
    "    output_hidden_states=True,\n",
    "    output_attentions=True,\n",
    "    return_dict=True,\n",
    "    frozen_plm=False,\n",
    "    frozen_llm=False,\n",
    "    projection_dim=1024,\n",
    "    logit_scale_init_value=2.6592,\n",
    ")"
   ]
  },
  {
   "cell_type": "code",
   "execution_count": null,
   "metadata": {},
   "outputs": [],
   "source": [
    "model = ProtT5CLIP(model_config)\n",
    "model.to(device)\n",
    "model.to(torch.bfloat16)"
   ]
  },
  {
   "cell_type": "code",
   "execution_count": 4,
   "metadata": {},
   "outputs": [],
   "source": [
    "# print(\"\\nModel device:\", next(model.parameters()).device)\n",
    "# print(\"\\nModel PLM device:\", next(model.model_plm.parameters()).device)\n",
    "# print(\"\\nModel LLM device:\", next(model.model_llm.parameters()).device)\n",
    "\n",
    "# print(\"\\nProtein Model (T5) Parameter dtypes:\")\n",
    "# for name, param in model.model_plm.named_parameters():\n",
    "#     print(f\"{name}: {param.dtype}\")\n",
    "\n",
    "# print(\"\\nText Model (Phi) Parameter dtypes:\")\n",
    "# for name, param in model.model_llm.named_parameters():\n",
    "#     print(f\"{name}: {param.dtype}\")\n",
    "\n",
    "# print(\"\\nProjection Layer Parameter dtypes:\")\n",
    "# for name, param in model.protein_projection.named_parameters():\n",
    "#     print(f\"protein_projection.{name}: {param.dtype}\")\n",
    "# for name, param in model.text_projection.named_parameters():\n",
    "#     print(f\"text_projection.{name}: {param.dtype}\")\n",
    "\n",
    "# print(f\"\\nLogit Scale dtype: {model.logit_scale.dtype}\")\n"
   ]
  },
  {
   "cell_type": "code",
   "execution_count": 4,
   "metadata": {},
   "outputs": [
    {
     "ename": "NameError",
     "evalue": "name 'model' is not defined",
     "output_type": "error",
     "traceback": [
      "\u001b[0;31m---------------------------------------------------------------------------\u001b[0m",
      "\u001b[0;31mNameError\u001b[0m                                 Traceback (most recent call last)",
      "Cell \u001b[0;32mIn[4], line 5\u001b[0m\n\u001b[1;32m      3\u001b[0m \u001b[38;5;28;01mif\u001b[39;00m \u001b[38;5;129;01mnot\u001b[39;00m model_config\u001b[38;5;241m.\u001b[39mfrozen_plm:\n\u001b[1;32m      4\u001b[0m     target_modules \u001b[38;5;241m+\u001b[39m\u001b[38;5;241m=\u001b[39m [\u001b[38;5;124m\"\u001b[39m\u001b[38;5;124mq\u001b[39m\u001b[38;5;124m\"\u001b[39m, \u001b[38;5;124m\"\u001b[39m\u001b[38;5;124mk\u001b[39m\u001b[38;5;124m\"\u001b[39m, \u001b[38;5;124m\"\u001b[39m\u001b[38;5;124mv\u001b[39m\u001b[38;5;124m\"\u001b[39m, \u001b[38;5;124m\"\u001b[39m\u001b[38;5;124mo\u001b[39m\u001b[38;5;124m\"\u001b[39m]\n\u001b[0;32m----> 5\u001b[0m     modules_to_save \u001b[38;5;241m+\u001b[39m\u001b[38;5;241m=\u001b[39m \u001b[43mmodel\u001b[49m\u001b[38;5;241m.\u001b[39mloading_info_plm[\u001b[38;5;124m\"\u001b[39m\u001b[38;5;124mmissing_keys\u001b[39m\u001b[38;5;124m\"\u001b[39m]\n\u001b[1;32m      6\u001b[0m \u001b[38;5;28;01mif\u001b[39;00m \u001b[38;5;129;01mnot\u001b[39;00m model_config\u001b[38;5;241m.\u001b[39mfrozen_llm:\n\u001b[1;32m      7\u001b[0m     target_modules \u001b[38;5;241m+\u001b[39m\u001b[38;5;241m=\u001b[39m [\u001b[38;5;124m\"\u001b[39m\u001b[38;5;124mk_proj\u001b[39m\u001b[38;5;124m\"\u001b[39m, \u001b[38;5;124m\"\u001b[39m\u001b[38;5;124mq_proj\u001b[39m\u001b[38;5;124m\"\u001b[39m, \u001b[38;5;124m\"\u001b[39m\u001b[38;5;124mv_proj\u001b[39m\u001b[38;5;124m\"\u001b[39m, \u001b[38;5;124m\"\u001b[39m\u001b[38;5;124mo_proj\u001b[39m\u001b[38;5;124m\"\u001b[39m, \u001b[38;5;124m\"\u001b[39m\u001b[38;5;124mgate_proj\u001b[39m\u001b[38;5;124m\"\u001b[39m, \u001b[38;5;124m\"\u001b[39m\u001b[38;5;124mdown_proj\u001b[39m\u001b[38;5;124m\"\u001b[39m, \u001b[38;5;124m\"\u001b[39m\u001b[38;5;124mup_proj\u001b[39m\u001b[38;5;124m\"\u001b[39m]\n",
      "\u001b[0;31mNameError\u001b[0m: name 'model' is not defined"
     ]
    }
   ],
   "source": [
    "target_modules = []\n",
    "modules_to_save = ['protein_projection', 'text_projection']\n",
    "if not model_config.frozen_plm:\n",
    "    target_modules += [\"q\", \"k\", \"v\", \"o\"]\n",
    "    modules_to_save += model.loading_info_plm[\"missing_keys\"]\n",
    "if not model_config.frozen_llm:\n",
    "    target_modules += [\"k_proj\", \"q_proj\", \"v_proj\", \"o_proj\", \"gate_proj\", \"down_proj\", \"up_proj\"]\n",
    "    modules_to_save += model.loading_info_llm[\"missing_keys\"]\n",
    "\n",
    "lora_config = LoraConfig(\n",
    "    inference_mode=False,\n",
    "    r=8,\n",
    "    lora_alpha=16,\n",
    "    lora_dropout=0.05,\n",
    "    target_modules=target_modules,\n",
    "    bias=\"none\",\n",
    "    modules_to_save=modules_to_save,\n",
    "    # use_rslora=True,\n",
    "    # use_dora=True,\n",
    ")\n",
    "\n",
    "model = get_peft_model(model, lora_config)\n",
    "print(\"target_modules:\", target_modules)\n",
    "print(\"modules_to_save:\", modules_to_save)\n",
    "model.print_trainable_parameters()"
   ]
  },
  {
   "cell_type": "code",
   "execution_count": 5,
   "metadata": {},
   "outputs": [],
   "source": [
    "\n",
    "tokenizer_plm = T5Tokenizer.from_pretrained(\n",
    "    pretrained_model_name_or_path=model_config.name_or_path_plm,\n",
    "    do_lower_case=False,\n",
    "    use_fast=True,\n",
    "    legacy=False,\n",
    ")\n",
    "\n",
    "tokenizer_llm = AutoTokenizer.from_pretrained(\n",
    "    pretrained_model_name_or_path=model_config.name_or_path_llm,\n",
    ")"
   ]
  },
  {
   "cell_type": "code",
   "execution_count": 6,
   "metadata": {},
   "outputs": [],
   "source": [
    "# dataset = [\n",
    "#     {\n",
    "#         \"uid\": \"A001\",\n",
    "#         \"sequence\": \"MLEVPVWIPILAFAVGLGLGLLIPHLQKPFQRFPHLQKPFQRF\",\n",
    "#         \"text\": \"This protein is involved in membrane transport.\",\n",
    "#     },\n",
    "#     {\n",
    "#         \"uid\": \"A002\",\n",
    "#         \"sequence\": \"MSLEQKKGADIISKILQIQNSIGKTTSPSTLKTTSPSTLKT\",\n",
    "#         \"text\": \"This enzyme catalyzes the hydrolysis of ATP.\",\n",
    "#     },\n",
    "#     {\n",
    "#         \"uid\": \"A003\",\n",
    "#         \"sequence\": \"MKMKQQGLVADLLPNIRVMKTFGHFVFNYYNDN\",\n",
    "#         \"text\": \"This transcription factor regulates gene expression.\",\n",
    "#     },\n",
    "# ] * 1000\n",
    "\n",
    "# dataset = Dataset.from_list(dataset)\n",
    "# dataset = dataset.add_column(\"sequence_original\", dataset[\"sequence\"])\n",
    "# dataset = dataset.map(lambda x: {\"sequence\": \" \".join(list(re.sub(r\"[UZOB]\", \"X\", x[\"sequence\"])))})\n",
    "\n",
    "# tknz_plm = tokenizer_plm(text=dataset[\"sequence\"], padding=False, truncation=False)\n",
    "# tknz_llm = tokenizer_llm(text=dataset[\"text\"], padding=False, truncation=False)\n",
    "\n",
    "# dataset = dataset.add_column(\n",
    "#     \"input_ids\", [{\"sequence\": seq, \"text\": txt} for seq, txt in zip(tknz_plm[\"input_ids\"], tknz_llm[\"input_ids\"])]\n",
    "# )\n",
    "# dataset = dataset.add_column(\n",
    "#     \"attention_mask\", [{\"sequence\": seq, \"text\": txt} for seq, txt in zip(tknz_plm[\"attention_mask\"], tknz_llm[\"attention_mask\"])]\n",
    "# )\n",
    "\n",
    "# dataset = dataset.remove_columns([\"uid\", \"sequence\", \"text\", \"sequence_original\"])\n",
    "# dataset = DatasetDict({\"train\": dataset, \"test\": dataset})\n",
    "\n",
    "# print(dataset)\n",
    "# print(dataset[\"train\"][0])"
   ]
  },
  {
   "cell_type": "code",
   "execution_count": 6,
   "metadata": {},
   "outputs": [
    {
     "name": "stdout",
     "output_type": "stream",
     "text": [
      "Processing dataset...\n"
     ]
    },
    {
     "data": {
      "application/vnd.jupyter.widget-view+json": {
       "model_id": "0631c6af2b7e4e46b9c0faec1b6a864c",
       "version_major": 2,
       "version_minor": 0
      },
      "text/plain": [
       "Filter:   0%|          | 0/4299428 [00:00<?, ? examples/s]"
      ]
     },
     "metadata": {},
     "output_type": "display_data"
    },
    {
     "data": {
      "application/vnd.jupyter.widget-view+json": {
       "model_id": "fc44565b500d4db5a87a980be40a073a",
       "version_major": 2,
       "version_minor": 0
      },
      "text/plain": [
       "Map:   0%|          | 0/896917 [00:00<?, ? examples/s]"
      ]
     },
     "metadata": {},
     "output_type": "display_data"
    },
    {
     "data": {
      "application/vnd.jupyter.widget-view+json": {
       "model_id": "910118988c1247cd892b319dd5fa1825",
       "version_major": 2,
       "version_minor": 0
      },
      "text/plain": [
       "Filter:   0%|          | 0/1064435 [00:00<?, ? examples/s]"
      ]
     },
     "metadata": {},
     "output_type": "display_data"
    },
    {
     "data": {
      "application/vnd.jupyter.widget-view+json": {
       "model_id": "923caf2732214a839e05afb34b15f8ee",
       "version_major": 2,
       "version_minor": 0
      },
      "text/plain": [
       "Map:   0%|          | 0/221346 [00:00<?, ? examples/s]"
      ]
     },
     "metadata": {},
     "output_type": "display_data"
    },
    {
     "name": "stdout",
     "output_type": "stream",
     "text": [
      "Saving processed dataset to disk...\n"
     ]
    },
    {
     "data": {
      "application/vnd.jupyter.widget-view+json": {
       "model_id": "838e8ca634bb4d74bde4349c3b06ebf4",
       "version_major": 2,
       "version_minor": 0
      },
      "text/plain": [
       "Saving the dataset (0/6 shards):   0%|          | 0/896917 [00:00<?, ? examples/s]"
      ]
     },
     "metadata": {},
     "output_type": "display_data"
    },
    {
     "data": {
      "application/vnd.jupyter.widget-view+json": {
       "model_id": "616489b1874a4ed38a211b1c5171d404",
       "version_major": 2,
       "version_minor": 0
      },
      "text/plain": [
       "Saving the dataset (0/2 shards):   0%|          | 0/221346 [00:00<?, ? examples/s]"
      ]
     },
     "metadata": {},
     "output_type": "display_data"
    },
    {
     "name": "stdout",
     "output_type": "stream",
     "text": [
      "DatasetDict({\n",
      "    train: Dataset({\n",
      "        features: ['input_ids', 'attention_mask'],\n",
      "        num_rows: 896917\n",
      "    })\n",
      "    valid: Dataset({\n",
      "        features: ['input_ids', 'attention_mask'],\n",
      "        num_rows: 221346\n",
      "    })\n",
      "})\n",
      "{'input_ids': {'sequence': [19, 20, 7, 11, 12, 6, 18, 3, 22, 4, 4, 3, 4, 3, 6, 15, 6, 3, 4, 20, 5, 11, 13, 4, 3, 3, 4, 3, 9, 17, 5, 9, 5, 11, 11, 16, 13, 10, 18, 10, 17, 7, 11, 10, 18, 18, 17, 18, 9, 10, 15, 14, 22, 11, 22, 13, 3, 13, 20, 4, 17, 17, 11, 17, 5, 11, 6, 19, 14, 13, 12, 5, 22, 18, 18, 11, 22, 17, 6, 11, 8, 22, 11, 3, 13, 10, 11, 18, 13, 22, 18, 17, 4, 11, 9, 20, 16, 3, 14, 17, 4, 11, 11, 7, 13, 11, 11, 4, 22, 3, 6, 5, 17, 22, 10, 20, 5, 12, 22, 6, 13, 17, 5, 11, 14, 9, 4, 22, 15, 14, 3, 13, 17, 4, 9, 9, 1], 'text': [450, 4768, 5996, 1889, 338, 8178, 1072, 2785, 310, 5094, 17082, 457, 6354, 29889]}, 'attention_mask': {'sequence': [1, 1, 1, 1, 1, 1, 1, 1, 1, 1, 1, 1, 1, 1, 1, 1, 1, 1, 1, 1, 1, 1, 1, 1, 1, 1, 1, 1, 1, 1, 1, 1, 1, 1, 1, 1, 1, 1, 1, 1, 1, 1, 1, 1, 1, 1, 1, 1, 1, 1, 1, 1, 1, 1, 1, 1, 1, 1, 1, 1, 1, 1, 1, 1, 1, 1, 1, 1, 1, 1, 1, 1, 1, 1, 1, 1, 1, 1, 1, 1, 1, 1, 1, 1, 1, 1, 1, 1, 1, 1, 1, 1, 1, 1, 1, 1, 1, 1, 1, 1, 1, 1, 1, 1, 1, 1, 1, 1, 1, 1, 1, 1, 1, 1, 1, 1, 1, 1, 1, 1, 1, 1, 1, 1, 1, 1, 1, 1, 1, 1, 1, 1, 1, 1, 1, 1, 1], 'text': [1, 1, 1, 1, 1, 1, 1, 1, 1, 1, 1, 1, 1, 1]}}\n"
     ]
    }
   ],
   "source": [
    "overwrite = False\n",
    "\n",
    "processed_dataset_path = \"../tmp/data/processed_train_val_GO\"\n",
    "# processed_dataset_path = \"tmp/data/processed_train_val_GO_FULL\"\n",
    "\n",
    "if not overwrite and os.path.exists(processed_dataset_path):\n",
    "    print(\"Loading processed dataset from disk...\")\n",
    "    dataset = load_from_disk(processed_dataset_path)\n",
    "else:\n",
    "    print(\"Processing dataset...\")\n",
    "    dataset = load_from_disk(\"../tmp/data/train_val_GO\")\n",
    "    dataset = DatasetDict({\n",
    "        'train': dataset['train'],#.select(range(10000)),\n",
    "        'valid': dataset['test']#.select(range(3000))\n",
    "    })\n",
    "\n",
    "    for split in dataset:\n",
    "        dataset[split] = dataset[split].filter(lambda x: len(x[\"sequence\"]) < 256)\n",
    "        \n",
    "        dataset[split] = dataset[split].map(lambda x: {\"sequence\": \" \".join(list(re.sub(r\"[UZOB]\", \"X\", x[\"sequence\"])))})\n",
    "        dataset[split] = dataset[split].remove_columns([\"identifier\", \"term\", \"aspect\", \"GO Name\", \"species\", \"__index_level_0__\"])\n",
    "\n",
    "        tknz_plm = tokenizer_plm(text=dataset[split][\"sequence\"], padding=False, truncation=False)\n",
    "        tknz_llm = tokenizer_llm(text=dataset[split][\"GO Sentence\"], padding=False, truncation=False)\n",
    "\n",
    "        dataset[split] = dataset[split].add_column(\n",
    "            \"input_ids\", [{\"sequence\": seq, \"text\": txt} for seq, txt in zip(tknz_plm[\"input_ids\"], tknz_llm[\"input_ids\"])]\n",
    "        )\n",
    "        dataset[split] = dataset[split].add_column(\n",
    "            \"attention_mask\", [{\"sequence\": seq, \"text\": txt} for seq, txt in zip(tknz_plm[\"attention_mask\"], tknz_llm[\"attention_mask\"])]\n",
    "        )\n",
    "\n",
    "    dataset = dataset.remove_columns([\"sequence\", \"GO Sentence\"])\n",
    "    \n",
    "    print(\"Saving processed dataset to disk...\")\n",
    "    dataset.save_to_disk(processed_dataset_path)\n",
    "\n",
    "print(dataset)\n",
    "print(dataset[\"train\"][0])"
   ]
  },
  {
   "cell_type": "code",
   "execution_count": null,
   "metadata": {},
   "outputs": [],
   "source": [
    "\n",
    "data_collator = DataCollatorForProtT5CLIP(\n",
    "    tokenizer_plm=tokenizer_plm,\n",
    "    tokenizer_llm=tokenizer_llm,\n",
    "    padding=True,\n",
    "    pad_to_multiple_of=8\n",
    ")\n",
    "\n",
    "training_args = TrainingArguments(\n",
    "    output_dir=\"../tmp/models/checkpoints/\",\n",
    "    run_name=run.name if USE_WANDB else None,\n",
    "    learning_rate=1e-3,\n",
    "    per_device_train_batch_size=26,\n",
    "    # per_device_eval_batch_size=16,\n",
    "    num_train_epochs=1,\n",
    "    logging_steps=1,\n",
    "    # do_train=False,\n",
    "    # do_eval=False,\n",
    "    # eval_steps=300,\n",
    "    # save_strategy=\"steps\",\n",
    "    # save_steps=300,\n",
    "    remove_unused_columns=False,\n",
    "    # label_names=[\"labels\"],\n",
    "    seed=69420,\n",
    "    report_to=report_to,\n",
    ")\n",
    "\n",
    "def compute_metrics(eval_preds):\n",
    "    return {\n",
    "        \"loss\": 1.0,\n",
    "        \"accuracy\": 0.5,\n",
    "        \"precision\": 0.5,\n",
    "        \"recall\": 0.5,\n",
    "        \"f1\": 0.5,\n",
    "    }\n",
    "\n",
    "trainer = Trainer(\n",
    "    model=model,\n",
    "    args=training_args,\n",
    "    train_dataset=dataset[\"train\"].select(range(1000)), # Important to limit the training set size for now\n",
    "    # eval_dataset=dataset['valid'],\n",
    "    data_collator=data_collator,\n",
    "    # compute_metrics=compute_metrics,\n",
    ")"
   ]
  },
  {
   "cell_type": "code",
   "execution_count": null,
   "metadata": {},
   "outputs": [],
   "source": [
    "gc.collect()\n",
    "\n",
    "pd.set_option(\"display.max_columns\", None)\n",
    "pd.set_option(\"display.max_rows\", None)\n",
    "torch.set_printoptions(profile=\"full\")\n",
    "\n",
    "if torch.cuda.is_available():\n",
    "    torch.cuda.empty_cache()\n",
    "if torch.backends.mps.is_available():\n",
    "    torch.mps.empty_cache()\n",
    "\n",
    "trainer.train()"
   ]
  },
  {
   "cell_type": "markdown",
   "metadata": {},
   "source": [
    "---\n",
    "# Model saving"
   ]
  },
  {
   "cell_type": "code",
   "execution_count": null,
   "metadata": {},
   "outputs": [],
   "source": [
    "model.save_pretrained(f\"../tmp/models/protT5-CLIP-{datetime.now().strftime('%Y-%m-%d-%H-%M-%S')}\")"
   ]
  },
  {
   "cell_type": "markdown",
   "metadata": {},
   "source": [
    "---\n",
    "## Analysis"
   ]
  },
  {
   "cell_type": "code",
   "execution_count": null,
   "metadata": {},
   "outputs": [],
   "source": [
    "# pd.DataFrame(trainer.state.log_history)"
   ]
  },
  {
   "cell_type": "code",
   "execution_count": null,
   "metadata": {},
   "outputs": [],
   "source": [
    "# import matplotlib.pyplot as plt\n",
    "\n",
    "# log_df = pd.DataFrame(trainer.state.log_history)\n",
    "\n",
    "# fig, (ax1, ax2) = plt.subplots(2, 1, figsize=(12, 8))\n",
    "\n",
    "# ax1_twin = ax1.twinx()\n",
    "# log_df.plot(y='loss', ax=ax1, color='blue', label='Training Loss')\n",
    "# log_df.plot(y='grad_norm', ax=ax1_twin, color='red', label='Gradient Norm')\n",
    "# ax1.set_xlabel('Step')\n",
    "# ax1.set_ylabel('Loss', color='blue')\n",
    "# ax1_twin.set_ylabel('Gradient Norm', color='red')\n",
    "# ax1.set_title('Training Loss and Gradient Norm over Time')\n",
    "# ax1.grid(True)\n",
    "\n",
    "# lines1, labels1 = ax1.get_legend_handles_labels()\n",
    "# lines2, labels2 = ax1_twin.get_legend_handles_labels()\n",
    "# ax1_twin.legend(lines1 + lines2, labels1 + labels2, loc='upper right')\n",
    "\n",
    "# log_df.plot(y='learning_rate', ax=ax2, color='green', label='Learning Rate') \n",
    "# ax2.set_xlabel('Step')\n",
    "# ax2.set_ylabel('Learning Rate')\n",
    "# ax2.set_title('Learning Rate Schedule')\n",
    "# ax2.grid(True)\n",
    "# ax2.legend()\n",
    "\n",
    "# plt.tight_layout()\n",
    "# plt.show()\n"
   ]
  },
  {
   "cell_type": "code",
   "execution_count": null,
   "metadata": {},
   "outputs": [],
   "source": [
    "# import os\n",
    "\n",
    "# os.makedirs(\"../tmp/models\", exist_ok=True)\n",
    "\n",
    "# log_df.to_csv(\"../tmp/models/training_logs.csv\", index=True)\n",
    "# print(\"Training logs saved to ../tmp/models/training_logs.csv\")\n"
   ]
  }
 ],
 "metadata": {
  "kernelspec": {
   "display_name": "Python 3",
   "language": "python",
   "name": "python3"
  },
  "language_info": {
   "codemirror_mode": {
    "name": "ipython",
    "version": 3
   },
   "file_extension": ".py",
   "mimetype": "text/x-python",
   "name": "python",
   "nbconvert_exporter": "python",
   "pygments_lexer": "ipython3",
   "version": "3.12.0"
  }
 },
 "nbformat": 4,
 "nbformat_minor": 2
}
