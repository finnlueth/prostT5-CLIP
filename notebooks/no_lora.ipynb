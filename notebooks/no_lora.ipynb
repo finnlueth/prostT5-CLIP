{
 "cells": [
  {
   "cell_type": "code",
   "execution_count": 1,
   "metadata": {},
   "outputs": [],
   "source": [
    "%reload_ext autoreload\n",
    "%autoreload 2"
   ]
  },
  {
   "cell_type": "code",
   "execution_count": null,
   "metadata": {},
   "outputs": [],
   "source": [
    "import os\n",
    "import random\n",
    "\n",
    "import accelerate\n",
    "import torch\n",
    "import transformers\n",
    "\n",
    "from src._shared import (\n",
    "    apply_lora_to_model,\n",
    "    freeze_base_models,\n",
    "    load_clip_model,\n",
    "    load_config,\n",
    "    load_tokenizers,\n",
    "    prepare_dataset,\n",
    "    save_model_and_logs,\n",
    "    setup_environment,\n",
    "    setup_trainer,\n",
    "    train_model,\n",
    ")\n",
    "\n",
    "os.environ[\"CUDA_DEVICE_ORDER\"] = \"PCI_BUS_ID\"\n",
    "os.environ[\"CUDA_VISIBLE_DEVICES\"] = \"0\"\n",
    "\n",
    "train_config = load_config()\n",
    "model_name_identifier, device, report_to, run, USE_WANDB, SEED = setup_environment(train_config)\n",
    "\n",
    "accelerate.utils.set_seed(SEED + 1)\n",
    "transformers.set_seed(SEED + 2)\n",
    "torch.manual_seed(SEED + 3)\n",
    "random.seed(SEED + 4)"
   ]
  },
  {
   "cell_type": "code",
   "execution_count": null,
   "metadata": {},
   "outputs": [],
   "source": [
    "tokenizer_plm, tokenizer_llm = load_tokenizers(train_config)\n",
    "dataset = prepare_dataset(train_config, tokenizer_plm, tokenizer_llm)"
   ]
  },
  {
   "cell_type": "code",
   "execution_count": null,
   "metadata": {},
   "outputs": [],
   "source": [
    "model = load_clip_model(train_config, device)"
   ]
  },
  {
   "cell_type": "code",
   "execution_count": null,
   "metadata": {},
   "outputs": [],
   "source": [
    "print(model.logit_scale.scale)\n",
    "print(model.protein_projection.weight)\n",
    "print(model.text_projection.weight)"
   ]
  },
  {
   "cell_type": "code",
   "execution_count": 5,
   "metadata": {},
   "outputs": [],
   "source": [
    "model.load_projections_from_safetensors('../tmp/models/protT5-CLIP-2025-01-17-21-47-10-0/')"
   ]
  },
  {
   "cell_type": "code",
   "execution_count": null,
   "metadata": {},
   "outputs": [],
   "source": [
    "print(model.logit_scale.scale)\n",
    "print(model.protein_projection.weight)\n",
    "print(model.text_projection.weight)"
   ]
  },
  {
   "cell_type": "code",
   "execution_count": null,
   "metadata": {},
   "outputs": [],
   "source": []
  }
 ],
 "metadata": {
  "kernelspec": {
   "display_name": "Python 3",
   "language": "python",
   "name": "python3"
  },
  "language_info": {
   "codemirror_mode": {
    "name": "ipython",
    "version": 3
   },
   "file_extension": ".py",
   "mimetype": "text/x-python",
   "name": "python",
   "nbconvert_exporter": "python",
   "pygments_lexer": "ipython3",
   "version": "3.12.0"
  }
 },
 "nbformat": 4,
 "nbformat_minor": 2
}
