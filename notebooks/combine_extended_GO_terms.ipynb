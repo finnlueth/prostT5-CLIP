{
 "cells": [
  {
   "cell_type": "markdown",
   "id": "d6eb2d8f",
   "metadata": {},
   "source": [
    "# Combine Sequences and extended GO terms"
   ]
  },
  {
   "cell_type": "markdown",
   "id": "8d1a9064",
   "metadata": {},
   "source": [
    "## Imports"
   ]
  },
  {
   "cell_type": "code",
   "execution_count": 29,
   "id": "52cad5fe",
   "metadata": {},
   "outputs": [],
   "source": [
    "import pandas as pd\n",
    "import numpy as np\n",
    "from Bio import SeqIO\n",
    "import matplotlib.pyplot as plt\n",
    "import seaborn as sb\n",
    "from datasets import Dataset\n",
    "from datasets import load_from_disk\n",
    "import os\n"
   ]
  },
  {
   "cell_type": "markdown",
   "id": "7e116039",
   "metadata": {},
   "source": [
    "## Load data"
   ]
  },
  {
   "cell_type": "code",
   "execution_count": 30,
   "id": "9b036387",
   "metadata": {},
   "outputs": [
    {
     "name": "stdout",
     "output_type": "stream",
     "text": [
      "C:\\Users\\49176\\Unistuff\\PP2\\prostT5-CLIP\\data\\train_val\n"
     ]
    }
   ],
   "source": [
    "data_path = os.path.join(\"..\",\"data\",\"train_val\")\n",
    "\n",
    "absolute_path = os.path.abspath(data_path)\n",
    "\n",
    "print(absolute_path)"
   ]
  },
  {
   "cell_type": "code",
   "execution_count": 31,
   "id": "92f0a304",
   "metadata": {},
   "outputs": [],
   "source": [
    "dataset = load_from_disk(absolute_path)"
   ]
  },
  {
   "cell_type": "code",
   "execution_count": 32,
   "id": "95c644a0",
   "metadata": {},
   "outputs": [
    {
     "data": {
      "text/plain": [
       "DatasetDict({\n",
       "    train: Dataset({\n",
       "        features: ['identifier', 'sequence', 'species'],\n",
       "        num_rows: 113796\n",
       "    })\n",
       "    test: Dataset({\n",
       "        features: ['identifier', 'sequence', 'species'],\n",
       "        num_rows: 28450\n",
       "    })\n",
       "})"
      ]
     },
     "execution_count": 32,
     "metadata": {},
     "output_type": "execute_result"
    }
   ],
   "source": [
    "dataset"
   ]
  },
  {
   "cell_type": "code",
   "execution_count": 33,
   "id": "12860c85",
   "metadata": {},
   "outputs": [
    {
     "data": {
      "text/plain": [
       "DatasetDict({\n",
       "    train: Dataset({\n",
       "        features: ['identifier', 'sequence', 'species'],\n",
       "        num_rows: 113796\n",
       "    })\n",
       "    test: Dataset({\n",
       "        features: ['identifier', 'sequence', 'species'],\n",
       "        num_rows: 28450\n",
       "    })\n",
       "})"
      ]
     },
     "execution_count": 33,
     "metadata": {},
     "output_type": "execute_result"
    }
   ],
   "source": [
    "dataset"
   ]
  },
  {
   "cell_type": "code",
   "execution_count": 34,
   "id": "760f1c27",
   "metadata": {},
   "outputs": [
    {
     "name": "stdout",
     "output_type": "stream",
     "text": [
      "C:\\Users\\49176\\Unistuff\\PP2\\prostT5-CLIP\\data\\CAFA5\\Train\\train_terms_extended_new.tsv\n"
     ]
    }
   ],
   "source": [
    "## Load GO terms\n",
    "data_path = os.path.join(\"..\",\"data\",\"CAFA5\",\"Train\",\"train_terms_extended_new.tsv\")\n",
    "\n",
    "absolute_path = os.path.abspath(data_path)\n",
    "\n",
    "print(absolute_path)\n",
    "extended_GO = pd.read_csv(absolute_path,sep=\"\\t\")\n",
    "extended_GO = extended_GO.rename(columns={\"EntryID\":\"identifier\"})"
   ]
  },
  {
   "cell_type": "code",
   "execution_count": 35,
   "id": "53ae33a2",
   "metadata": {},
   "outputs": [
    {
     "data": {
      "text/html": [
       "<div>\n",
       "<style scoped>\n",
       "    .dataframe tbody tr th:only-of-type {\n",
       "        vertical-align: middle;\n",
       "    }\n",
       "\n",
       "    .dataframe tbody tr th {\n",
       "        vertical-align: top;\n",
       "    }\n",
       "\n",
       "    .dataframe thead th {\n",
       "        text-align: right;\n",
       "    }\n",
       "</style>\n",
       "<table border=\"1\" class=\"dataframe\">\n",
       "  <thead>\n",
       "    <tr style=\"text-align: right;\">\n",
       "      <th></th>\n",
       "      <th>identifier</th>\n",
       "      <th>term</th>\n",
       "      <th>aspect</th>\n",
       "      <th>GO Name</th>\n",
       "      <th>GO Sentence</th>\n",
       "    </tr>\n",
       "  </thead>\n",
       "  <tbody>\n",
       "    <tr>\n",
       "      <th>0</th>\n",
       "      <td>A0A009IHW8</td>\n",
       "      <td>GO:0008152</td>\n",
       "      <td>BPO</td>\n",
       "      <td>metabolic process</td>\n",
       "      <td>The biological process is metabolic process.</td>\n",
       "    </tr>\n",
       "    <tr>\n",
       "      <th>1</th>\n",
       "      <td>A0A009IHW8</td>\n",
       "      <td>GO:0034655</td>\n",
       "      <td>BPO</td>\n",
       "      <td>nucleobase-containing compound catabolic process</td>\n",
       "      <td>The biological process is nucleobase-containin...</td>\n",
       "    </tr>\n",
       "    <tr>\n",
       "      <th>2</th>\n",
       "      <td>A0A009IHW8</td>\n",
       "      <td>GO:0072523</td>\n",
       "      <td>BPO</td>\n",
       "      <td>purine-containing compound catabolic process</td>\n",
       "      <td>The biological process is purine-containing co...</td>\n",
       "    </tr>\n",
       "    <tr>\n",
       "      <th>3</th>\n",
       "      <td>A0A009IHW8</td>\n",
       "      <td>GO:0044270</td>\n",
       "      <td>BPO</td>\n",
       "      <td>cellular nitrogen compound catabolic process</td>\n",
       "      <td>The biological process is cellular nitrogen co...</td>\n",
       "    </tr>\n",
       "    <tr>\n",
       "      <th>4</th>\n",
       "      <td>A0A009IHW8</td>\n",
       "      <td>GO:0006753</td>\n",
       "      <td>BPO</td>\n",
       "      <td>nucleoside phosphate metabolic process</td>\n",
       "      <td>The biological process is nucleoside phosphate...</td>\n",
       "    </tr>\n",
       "    <tr>\n",
       "      <th>...</th>\n",
       "      <td>...</td>\n",
       "      <td>...</td>\n",
       "      <td>...</td>\n",
       "      <td>...</td>\n",
       "      <td>...</td>\n",
       "    </tr>\n",
       "    <tr>\n",
       "      <th>5363858</th>\n",
       "      <td>X5L565</td>\n",
       "      <td>GO:0050649</td>\n",
       "      <td>MFO</td>\n",
       "      <td>testosterone 6-beta-hydroxylase activity</td>\n",
       "      <td>The molecular function is testosterone 6-beta-...</td>\n",
       "    </tr>\n",
       "    <tr>\n",
       "      <th>5363859</th>\n",
       "      <td>X5L565</td>\n",
       "      <td>GO:0016491</td>\n",
       "      <td>MFO</td>\n",
       "      <td>oxidoreductase activity</td>\n",
       "      <td>The molecular function is oxidoreductase activ...</td>\n",
       "    </tr>\n",
       "    <tr>\n",
       "      <th>5363860</th>\n",
       "      <td>X5M5N0</td>\n",
       "      <td>GO:0005515</td>\n",
       "      <td>MFO</td>\n",
       "      <td>protein binding</td>\n",
       "      <td>The molecular function is protein binding.</td>\n",
       "    </tr>\n",
       "    <tr>\n",
       "      <th>5363861</th>\n",
       "      <td>X5M5N0</td>\n",
       "      <td>GO:0005488</td>\n",
       "      <td>MFO</td>\n",
       "      <td>binding</td>\n",
       "      <td>The molecular function is binding.</td>\n",
       "    </tr>\n",
       "    <tr>\n",
       "      <th>5363862</th>\n",
       "      <td>X5M5N0</td>\n",
       "      <td>GO:0003674</td>\n",
       "      <td>MFO</td>\n",
       "      <td>molecular function</td>\n",
       "      <td>The molecular function is molecular function.</td>\n",
       "    </tr>\n",
       "  </tbody>\n",
       "</table>\n",
       "<p>5363863 rows × 5 columns</p>\n",
       "</div>"
      ],
      "text/plain": [
       "         identifier        term aspect  \\\n",
       "0        A0A009IHW8  GO:0008152    BPO   \n",
       "1        A0A009IHW8  GO:0034655    BPO   \n",
       "2        A0A009IHW8  GO:0072523    BPO   \n",
       "3        A0A009IHW8  GO:0044270    BPO   \n",
       "4        A0A009IHW8  GO:0006753    BPO   \n",
       "...             ...         ...    ...   \n",
       "5363858      X5L565  GO:0050649    MFO   \n",
       "5363859      X5L565  GO:0016491    MFO   \n",
       "5363860      X5M5N0  GO:0005515    MFO   \n",
       "5363861      X5M5N0  GO:0005488    MFO   \n",
       "5363862      X5M5N0  GO:0003674    MFO   \n",
       "\n",
       "                                                  GO Name  \\\n",
       "0                                       metabolic process   \n",
       "1        nucleobase-containing compound catabolic process   \n",
       "2            purine-containing compound catabolic process   \n",
       "3            cellular nitrogen compound catabolic process   \n",
       "4                  nucleoside phosphate metabolic process   \n",
       "...                                                   ...   \n",
       "5363858          testosterone 6-beta-hydroxylase activity   \n",
       "5363859                           oxidoreductase activity   \n",
       "5363860                                   protein binding   \n",
       "5363861                                           binding   \n",
       "5363862                                molecular function   \n",
       "\n",
       "                                               GO Sentence  \n",
       "0             The biological process is metabolic process.  \n",
       "1        The biological process is nucleobase-containin...  \n",
       "2        The biological process is purine-containing co...  \n",
       "3        The biological process is cellular nitrogen co...  \n",
       "4        The biological process is nucleoside phosphate...  \n",
       "...                                                    ...  \n",
       "5363858  The molecular function is testosterone 6-beta-...  \n",
       "5363859  The molecular function is oxidoreductase activ...  \n",
       "5363860         The molecular function is protein binding.  \n",
       "5363861                 The molecular function is binding.  \n",
       "5363862      The molecular function is molecular function.  \n",
       "\n",
       "[5363863 rows x 5 columns]"
      ]
     },
     "execution_count": 35,
     "metadata": {},
     "output_type": "execute_result"
    }
   ],
   "source": [
    "extended_GO"
   ]
  },
  {
   "cell_type": "markdown",
   "id": "cc74363d",
   "metadata": {},
   "source": [
    "### Check if compatible"
   ]
  },
  {
   "cell_type": "code",
   "execution_count": 43,
   "id": "7c9be586",
   "metadata": {},
   "outputs": [],
   "source": [
    "assert len(extended_GO[\"identifier\"].unique()) == (len(dataset[\"train\"][\"identifier\"])+len(dataset[\"test\"][\"identifier\"]))"
   ]
  },
  {
   "cell_type": "markdown",
   "id": "d793836a",
   "metadata": {},
   "source": [
    "### Merge datasets"
   ]
  },
  {
   "cell_type": "code",
   "execution_count": 37,
   "id": "6dad5144",
   "metadata": {},
   "outputs": [],
   "source": [
    "train = dataset[\"train\"].to_pandas()\n",
    "test = dataset[\"test\"].to_pandas()"
   ]
  },
  {
   "cell_type": "code",
   "execution_count": 47,
   "id": "ffaff5a0",
   "metadata": {},
   "outputs": [],
   "source": [
    "merged_train = pd.merge(extended_GO, train, on='identifier', how='left').dropna()"
   ]
  },
  {
   "cell_type": "code",
   "execution_count": 48,
   "id": "c758ef9f",
   "metadata": {},
   "outputs": [],
   "source": [
    "merged_test = pd.merge(extended_GO, test, on='identifier', how='left').dropna()"
   ]
  },
  {
   "cell_type": "code",
   "execution_count": 49,
   "id": "364058b8",
   "metadata": {},
   "outputs": [
    {
     "data": {
      "text/plain": [
       "5363863"
      ]
     },
     "execution_count": 49,
     "metadata": {},
     "output_type": "execute_result"
    }
   ],
   "source": [
    "len(extended_GO.identifier)"
   ]
  },
  {
   "cell_type": "code",
   "execution_count": 50,
   "id": "bb85409d",
   "metadata": {},
   "outputs": [
    {
     "data": {
      "text/plain": [
       "5363863"
      ]
     },
     "execution_count": 50,
     "metadata": {},
     "output_type": "execute_result"
    }
   ],
   "source": [
    "(len(merged_train)+len(merged_test))"
   ]
  },
  {
   "cell_type": "code",
   "execution_count": 51,
   "id": "e9ada61f",
   "metadata": {},
   "outputs": [],
   "source": [
    "assert (len(merged_train)+len(merged_test)) == len(extended_GO.identifier)"
   ]
  },
  {
   "cell_type": "code",
   "execution_count": null,
   "id": "d5d55f9f",
   "metadata": {},
   "outputs": [],
   "source": [
    "# Delete objects no longer needed\n",
    "del train\n",
    "del test\n",
    "del extended_GO\n",
    "del dataset"
   ]
  },
  {
   "cell_type": "code",
   "execution_count": 61,
   "id": "6ea82ad0",
   "metadata": {},
   "outputs": [
    {
     "data": {
      "text/plain": [
       "1440"
      ]
     },
     "execution_count": 61,
     "metadata": {},
     "output_type": "execute_result"
    }
   ],
   "source": [
    "import gc\n",
    "\n",
    "\n",
    "\n",
    "# Run garbage collection to free memory\n",
    "gc.collect()\n"
   ]
  },
  {
   "cell_type": "code",
   "execution_count": 63,
   "id": "64a9152c",
   "metadata": {},
   "outputs": [],
   "source": [
    "from datasets import Dataset, DatasetDict, concatenate_datasets\n",
    "import numpy as np\n",
    "\n",
    "# Split your large DataFrames into smaller chunks\n",
    "train_chunks = [Dataset.from_pandas(chunk) for chunk in np.array_split(merged_train, 10)]\n",
    "test_chunks = [Dataset.from_pandas(chunk) for chunk in np.array_split(merged_test, 10)]\n",
    "\n",
    "# Concatenate the chunks into a single Dataset\n",
    "train_dataset = concatenate_datasets(train_chunks)\n",
    "test_dataset = concatenate_datasets(test_chunks)\n",
    "\n",
    "# Create the DatasetDict\n",
    "dataset_dict = DatasetDict({\n",
    "    \"train\": train_dataset,\n",
    "    \"test\": test_dataset\n",
    "})\n"
   ]
  },
  {
   "cell_type": "code",
   "execution_count": 70,
   "id": "536b9972",
   "metadata": {},
   "outputs": [
    {
     "data": {
      "text/plain": [
       "{'identifier': 'A0A009IHW8',\n",
       " 'term': 'GO:1901292',\n",
       " 'aspect': 'BPO',\n",
       " 'GO Name': 'nucleoside phosphate catabolic process',\n",
       " 'GO Sentence': 'The biological process is nucleoside phosphate catabolic process.',\n",
       " 'sequence': 'MSLEQKKGADIISKILQIQNSIGKTTSPSTLKTKLSEISRKEQENARIQSKLSDLQKKKIDIDNKLLKEKQNLIKEEILERKKLEVLTKKQQKDEIEHQKKLKREIDAIKASTQYITDVSISSYNNTIPETEPEYDLFISHASEDKEDFVRPLAETLQQLGVNVWYDEFTLKVGDSLRQKIDSGLRNSKYGTVVLSTDFIKKDWTNYELDGLVAREMNGHKMILPIWHKITKNDVLDYSPNLADKVALNTSVNSIEEIAHQLADVILNR',\n",
       " 'species': 'Acinetobacter baumannii ',\n",
       " '__index_level_0__': 5}"
      ]
     },
     "execution_count": 70,
     "metadata": {},
     "output_type": "execute_result"
    }
   ],
   "source": [
    "dataset_dict[\"train\"][5]"
   ]
  },
  {
   "cell_type": "code",
   "execution_count": 72,
   "id": "bbe5b20a",
   "metadata": {},
   "outputs": [
    {
     "data": {
      "text/plain": [
       "DatasetDict({\n",
       "    train: Dataset({\n",
       "        features: ['identifier', 'term', 'aspect', 'GO Name', 'GO Sentence', 'sequence', 'species', '__index_level_0__'],\n",
       "        num_rows: 4299428\n",
       "    })\n",
       "    test: Dataset({\n",
       "        features: ['identifier', 'term', 'aspect', 'GO Name', 'GO Sentence', 'sequence', 'species', '__index_level_0__'],\n",
       "        num_rows: 1064435\n",
       "    })\n",
       "})"
      ]
     },
     "execution_count": 72,
     "metadata": {},
     "output_type": "execute_result"
    }
   ],
   "source": [
    "dataset_dict"
   ]
  },
  {
   "cell_type": "markdown",
   "id": "41517d6e",
   "metadata": {},
   "source": [
    "### Save"
   ]
  },
  {
   "cell_type": "code",
   "execution_count": 71,
   "id": "385abc25",
   "metadata": {},
   "outputs": [
    {
     "name": "stdout",
     "output_type": "stream",
     "text": [
      "C:\\Users\\49176\\Unistuff\\PP2\\prostT5-CLIP\\data\\train_val_GO\n"
     ]
    },
    {
     "data": {
      "application/vnd.jupyter.widget-view+json": {
       "model_id": "5d58d9915ce746e0af258804bd81c56b",
       "version_major": 2,
       "version_minor": 0
      },
      "text/plain": [
       "Saving the dataset (0/7 shards):   0%|          | 0/4299428 [00:00<?, ? examples/s]"
      ]
     },
     "metadata": {},
     "output_type": "display_data"
    },
    {
     "data": {
      "application/vnd.jupyter.widget-view+json": {
       "model_id": "b0b4c8ac70f844d1835281ec8a86342d",
       "version_major": 2,
       "version_minor": 0
      },
      "text/plain": [
       "Saving the dataset (0/2 shards):   0%|          | 0/1064435 [00:00<?, ? examples/s]"
      ]
     },
     "metadata": {},
     "output_type": "display_data"
    }
   ],
   "source": [
    "data_path = os.path.join(\"..\",\"data\",\"train_val_GO\")\n",
    "\n",
    "absolute_path = os.path.abspath(data_path)\n",
    "\n",
    "print(absolute_path)\n",
    "dataset_dict.save_to_disk(absolute_path)"
   ]
  },
  {
   "cell_type": "code",
   "execution_count": null,
   "id": "5527d7ea",
   "metadata": {},
   "outputs": [],
   "source": []
  }
 ],
 "metadata": {
  "kernelspec": {
   "display_name": "T5-CLIP",
   "language": "python",
   "name": "prostt5-clip"
  },
  "language_info": {
   "codemirror_mode": {
    "name": "ipython",
    "version": 3
   },
   "file_extension": ".py",
   "mimetype": "text/x-python",
   "name": "python",
   "nbconvert_exporter": "python",
   "pygments_lexer": "ipython3",
   "version": "3.12.0"
  }
 },
 "nbformat": 4,
 "nbformat_minor": 5
}
