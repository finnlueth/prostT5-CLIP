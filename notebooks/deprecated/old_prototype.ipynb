{
 "cells": [
  {
   "cell_type": "code",
   "execution_count": 5,
   "metadata": {},
   "outputs": [],
   "source": [
    "%reload_ext autoreload\n",
    "%autoreload 2\n",
    "\n",
    "from _header import *"
   ]
  },
  {
   "cell_type": "markdown",
   "metadata": {},
   "source": [
    "---\n",
    "## Load Models and apply LoRA"
   ]
  },
  {
   "cell_type": "code",
   "execution_count": 6,
   "metadata": {},
   "outputs": [
    {
     "name": "stdout",
     "output_type": "stream",
     "text": [
      "trainable params: 3,932,160 || all params: 1,212,073,984 || trainable%: 0.3244\n"
     ]
    },
    {
     "name": "stderr",
     "output_type": "stream",
     "text": [
      "`flash-attention` package not found, consider installing for better performance: No module named 'flash_attn'.\n",
      "Current `flash-attention` does not support `window_size`. Either upgrade or use `attn_implementation='eager'`.\n"
     ]
    },
    {
     "data": {
      "application/vnd.jupyter.widget-view+json": {
       "model_id": "a001eaa32e7b4eed9d5cc9acc2d86c5a",
       "version_major": 2,
       "version_minor": 0
      },
      "text/plain": [
       "Loading checkpoint shards:   0%|          | 0/2 [00:00<?, ?it/s]"
      ]
     },
     "metadata": {},
     "output_type": "display_data"
    },
    {
     "name": "stdout",
     "output_type": "stream",
     "text": [
      "trainable params: 4,456,448 || all params: 3,825,536,000 || trainable%: 0.1165\n"
     ]
    }
   ],
   "source": [
    "# PLM\n",
    "\n",
    "plm_tokenizer = T5Tokenizer.from_pretrained(\n",
    "    pretrained_model_name_or_path=BASE_MODEL_PLM,\n",
    "    do_lower_case=False,\n",
    "    use_fast=True,\n",
    "    legacy=False,\n",
    ")\n",
    "\n",
    "plm_model, plm_loading_info = T5EncoderModel.from_pretrained(\n",
    "    pretrained_model_name_or_path=BASE_MODEL_PLM,\n",
    "    output_loading_info=True,\n",
    "    # device_map=device,\n",
    "    # load_in_8bit=False,\n",
    "    # custom_dropout_rate=0.1,\n",
    ")\n",
    "\n",
    "plm_lora_config = LoraConfig(\n",
    "    inference_mode=False,\n",
    "    r=8,\n",
    "    lora_alpha=16,\n",
    "    lora_dropout=0.05,\n",
    "    target_modules=[\"q\", \"k\", \"v\", \"o\"],\n",
    "    bias=\"none\",\n",
    ")\n",
    "\n",
    "plm_model = peft.get_peft_model(plm_model, plm_lora_config)\n",
    "plm_model.print_trainable_parameters()\n",
    "\n",
    "\n",
    "# LLM\n",
    "\n",
    "llm_tokenizer = AutoTokenizer.from_pretrained(\n",
    "    pretrained_model_name_or_path=BASE_MODEL_LLM\n",
    ")\n",
    "\n",
    "llm_model, llm_loading_info = AutoModelForCausalLM.from_pretrained(\n",
    "    BASE_MODEL_LLM,\n",
    "    # device_map=\"cuda\",\n",
    "    torch_dtype=\"auto\",\n",
    "    trust_remote_code=True,\n",
    "    output_loading_info=True,\n",
    ")\n",
    "\n",
    "llm_lora_config = LoraConfig(\n",
    "    inference_mode=False,\n",
    "    r=8,\n",
    "    lora_alpha=16,\n",
    "    lora_dropout=0.05,\n",
    "    target_modules=['k_proj', 'q_proj', 'v_proj', 'o_proj', \"gate_proj\", \"down_proj\", \"up_proj\"],\n",
    "    bias=\"none\",\n",
    ")\n",
    "\n",
    "llm_model = peft.get_peft_model(llm_model, llm_lora_config)\n",
    "llm_model.print_trainable_parameters()"
   ]
  },
  {
   "cell_type": "code",
   "execution_count": null,
   "metadata": {},
   "outputs": [],
   "source": []
  },
  {
   "cell_type": "markdown",
   "metadata": {},
   "source": [
    "---\n",
    "## Train"
   ]
  },
  {
   "cell_type": "code",
   "execution_count": null,
   "metadata": {},
   "outputs": [],
   "source": [
    "ds_dummy = {\n",
    "    \"MLEVPVWIPILAFAVGLGLGLLIPHLQKPFQRF\": \"This protein is involved in membrane transport.\",\n",
    "    \"MSLEQKKGADIISKILQIQNSIGKTTSPSTLKT\": \"This enzyme catalyzes the hydrolysis of ATP.\",\n",
    "    \"MKMKQQGLVADLLPNIRVMKTFGHFVFNYYNDN\": \"This transcription factor regulates gene expression.\"\n",
    "}"
   ]
  },
  {
   "cell_type": "markdown",
   "metadata": {},
   "source": [
    "---\n",
    "## Inference"
   ]
  },
  {
   "cell_type": "code",
   "execution_count": null,
   "metadata": {},
   "outputs": [],
   "source": [
    "# with torch.no_grad():\n",
    "#     protein_features = plm_base_model()['last_hidden_state']\n",
    "#     language_features = llm_base_model()['last_hidden_state']"
   ]
  },
  {
   "cell_type": "code",
   "execution_count": null,
   "metadata": {},
   "outputs": [
    {
     "name": "stderr",
     "output_type": "stream",
     "text": [
      "`vision_config` is `None`. initializing the `CLIPVisionConfig` with default values.\n"
     ]
    },
    {
     "ename": "TypeError",
     "evalue": "transformers.models.clip.configuration_clip.CLIPTextConfig() argument after ** must be a mapping, not Phi3Config",
     "output_type": "error",
     "traceback": [
      "\u001b[0;31m---------------------------------------------------------------------------\u001b[0m",
      "\u001b[0;31mTypeError\u001b[0m                                 Traceback (most recent call last)",
      "Cell \u001b[0;32mIn[9], line 3\u001b[0m\n\u001b[1;32m      1\u001b[0m \u001b[38;5;28;01mfrom\u001b[39;00m \u001b[38;5;21;01mtransformers\u001b[39;00m\u001b[38;5;21;01m.\u001b[39;00m\u001b[38;5;21;01mmodels\u001b[39;00m\u001b[38;5;21;01m.\u001b[39;00m\u001b[38;5;21;01mclip\u001b[39;00m \u001b[38;5;28;01mimport\u001b[39;00m CLIPConfig\n\u001b[0;32m----> 3\u001b[0m configuration \u001b[38;5;241m=\u001b[39m \u001b[43mCLIPConfig\u001b[49m\u001b[43m(\u001b[49m\n\u001b[1;32m      4\u001b[0m \u001b[43m    \u001b[49m\u001b[43mtext_config\u001b[49m\u001b[38;5;241;43m=\u001b[39;49m\u001b[43mllm_model\u001b[49m\u001b[38;5;241;43m.\u001b[39;49m\u001b[43mconfig\u001b[49m\u001b[43m,\u001b[49m\n\u001b[1;32m      5\u001b[0m \u001b[43m    \u001b[49m\u001b[38;5;66;43;03m# vision_config=plm_model.config\u001b[39;49;00m\n\u001b[1;32m      6\u001b[0m \u001b[43m    \u001b[49m\u001b[43m)\u001b[49m\n\u001b[1;32m      7\u001b[0m configuration\n",
      "File \u001b[0;32m~/Developer/gits/prostT5-CLIP/.venv/lib/python3.12/site-packages/transformers/models/clip/configuration_clip.py:390\u001b[0m, in \u001b[0;36mCLIPConfig.__init__\u001b[0;34m(self, text_config, vision_config, projection_dim, logit_scale_init_value, **kwargs)\u001b[0m\n\u001b[1;32m    387\u001b[0m     vision_config \u001b[38;5;241m=\u001b[39m {}\n\u001b[1;32m    388\u001b[0m     logger\u001b[38;5;241m.\u001b[39minfo(\u001b[38;5;124m\"\u001b[39m\u001b[38;5;124m`vision_config` is `None`. initializing the `CLIPVisionConfig` with default values.\u001b[39m\u001b[38;5;124m\"\u001b[39m)\n\u001b[0;32m--> 390\u001b[0m \u001b[38;5;28mself\u001b[39m\u001b[38;5;241m.\u001b[39mtext_config \u001b[38;5;241m=\u001b[39m CLIPTextConfig(\u001b[38;5;241m*\u001b[39m\u001b[38;5;241m*\u001b[39mtext_config)\n\u001b[1;32m    391\u001b[0m \u001b[38;5;28mself\u001b[39m\u001b[38;5;241m.\u001b[39mvision_config \u001b[38;5;241m=\u001b[39m CLIPVisionConfig(\u001b[38;5;241m*\u001b[39m\u001b[38;5;241m*\u001b[39mvision_config)\n\u001b[1;32m    393\u001b[0m \u001b[38;5;28mself\u001b[39m\u001b[38;5;241m.\u001b[39mprojection_dim \u001b[38;5;241m=\u001b[39m projection_dim\n",
      "\u001b[0;31mTypeError\u001b[0m: transformers.models.clip.configuration_clip.CLIPTextConfig() argument after ** must be a mapping, not Phi3Config"
     ]
    }
   ],
   "source": [
    "class CLIP(nn.Module):\n",
    "    output_dict: torch.jit.Final[bool]\n",
    "\n",
    "    def __init__(\n",
    "            self,\n",
    "            embed_dim: int,\n",
    "            # vision_cfg: CLIPVisionCfg,\n",
    "            # text_cfg: CLIPTextCfg,\n",
    "            quick_gelu: bool = False,\n",
    "            init_logit_scale: float = np.log(1 / 0.07),\n",
    "            init_logit_bias: Optional[float] = None,\n",
    "            cast_dtype: Optional[torch.dtype] = None,\n",
    "            output_dict: bool = False,\n",
    "    ):\n",
    "        super().__init__()\n",
    "        self.output_dict = output_dict\n",
    "\n",
    "        self.visual = _build_vision_tower(embed_dim, vision_cfg, quick_gelu, cast_dtype)\n",
    "\n",
    "        text = _build_text_tower(embed_dim, text_cfg, quick_gelu, cast_dtype)\n",
    "        self.transformer = text.transformer\n",
    "        self.context_length = text.context_length\n",
    "        self.vocab_size = text.vocab_size\n",
    "        self.token_embedding = text.token_embedding\n",
    "        self.positional_embedding = text.positional_embedding\n",
    "        self.ln_final = text.ln_final\n",
    "        self.text_projection = text.text_projection\n",
    "        self.text_pool_type = text.pool_type\n",
    "        self.register_buffer('attn_mask', text.attn_mask, persistent=False)\n",
    "\n",
    "        self.logit_scale = nn.Parameter(torch.ones([]) * init_logit_scale)\n",
    "        if init_logit_bias is not None:\n",
    "            self.logit_bias = nn.Parameter(torch.ones([]) * init_logit_bias)\n",
    "        else:\n",
    "            self.logit_bias = None\n"
   ]
  }
 ],
 "metadata": {
  "kernelspec": {
   "display_name": "Python 3",
   "language": "python",
   "name": "python3"
  },
  "language_info": {
   "codemirror_mode": {
    "name": "ipython",
    "version": 3
   },
   "file_extension": ".py",
   "mimetype": "text/x-python",
   "name": "python",
   "nbconvert_exporter": "python",
   "pygments_lexer": "ipython3",
   "version": "3.12.0"
  }
 },
 "nbformat": 4,
 "nbformat_minor": 2
}
