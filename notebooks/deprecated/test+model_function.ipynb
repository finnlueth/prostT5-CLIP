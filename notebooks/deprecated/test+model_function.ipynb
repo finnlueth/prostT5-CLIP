{
 "cells": [
  {
   "cell_type": "code",
   "execution_count": 5,
   "metadata": {},
   "outputs": [
    {
     "name": "stdout",
     "output_type": "stream",
     "text": [
      "Test case 1:\n",
      "Input hidden states:\n",
      "tensor([[0., 0., 1., 2., 3.],\n",
      "        [0., 0., 0., 4., 5.],\n",
      "        [1., 2., 3., 4., 5.]])\n",
      "\n",
      "Input attention mask:\n",
      "tensor([[0, 0, 1, 1, 1],\n",
      "        [0, 0, 0, 1, 1],\n",
      "        [1, 1, 1, 1, 1]])\n",
      "\n",
      "Output hidden states:\n",
      "tensor([[1., 2., 3., 0., 0.],\n",
      "        [4., 5., 0., 0., 0.],\n",
      "        [1., 2., 3., 4., 5.]])\n",
      "\n",
      "Expected output:\n",
      "tensor([[1., 2., 3., 0., 0.],\n",
      "        [4., 5., 0., 0., 0.],\n",
      "        [1., 2., 3., 4., 5.]])\n",
      "\n",
      "Test passed: True\n",
      "\n",
      "Test case 2:\n",
      "Input shape: torch.Size([2, 4, 3])\n",
      "Output shape: torch.Size([2, 4, 3])\n",
      "Shapes match: True\n"
     ]
    }
   ],
   "source": [
    "# Test _switch_phi_padding_direction function\n",
    "import torch\n",
    "from src.model.model import _switch_phi_padding_direction\n",
    "\n",
    "def test_switch_phi_padding_direction():\n",
    "    hidden_states = torch.tensor([\n",
    "        [0, 0, 1, 2, 3],\n",
    "        [0, 0, 0, 4, 5],\n",
    "        [1, 2, 3, 4, 5]\n",
    "    ]).float()\n",
    "    \n",
    "    attention_mask = torch.tensor([\n",
    "        [0, 0, 1, 1, 1],\n",
    "        [0, 0, 0, 1, 1],\n",
    "        [1, 1, 1, 1, 1]\n",
    "    ])\n",
    "    \n",
    "    result = _switch_phi_padding_direction(hidden_states, attention_mask)\n",
    "    \n",
    "    expected = torch.tensor([\n",
    "        [1, 2, 3, 0, 0],\n",
    "        [4, 5, 0, 0, 0],\n",
    "        [1, 2, 3, 4, 5]\n",
    "    ]).float()\n",
    "    \n",
    "    print(\"Test case 1:\")\n",
    "    print(\"Input hidden states:\")\n",
    "    print(hidden_states)\n",
    "    print(\"\\nInput attention mask:\")\n",
    "    print(attention_mask) \n",
    "    print(\"\\nOutput hidden states:\")\n",
    "    print(result)\n",
    "    print(\"\\nExpected output:\")\n",
    "    print(expected)\n",
    "    print(\"\\nTest passed:\", torch.allclose(result, expected))\n",
    "    \n",
    "    batch_size = 2\n",
    "    seq_len = 4\n",
    "    hidden_dim = 3\n",
    "    \n",
    "    hidden_states = torch.randn(batch_size, seq_len, hidden_dim)\n",
    "    attention_mask = torch.tensor([\n",
    "        [1, 1, 0, 0],\n",
    "        [1, 1, 1, 0]\n",
    "    ])\n",
    "    \n",
    "    result = _switch_phi_padding_direction(hidden_states, attention_mask)\n",
    "    \n",
    "    print(\"\\nTest case 2:\")\n",
    "    print(\"Input shape:\", hidden_states.shape)\n",
    "    print(\"Output shape:\", result.shape)\n",
    "    print(\"Shapes match:\", result.shape == hidden_states.shape)\n",
    "\n",
    "test_switch_phi_padding_direction()"
   ]
  },
  {
   "cell_type": "code",
   "execution_count": null,
   "metadata": {},
   "outputs": [],
   "source": []
  }
 ],
 "metadata": {
  "kernelspec": {
   "display_name": "Python 3",
   "language": "python",
   "name": "python3"
  },
  "language_info": {
   "codemirror_mode": {
    "name": "ipython",
    "version": 3
   },
   "file_extension": ".py",
   "mimetype": "text/x-python",
   "name": "python",
   "nbconvert_exporter": "python",
   "pygments_lexer": "ipython3",
   "version": "3.12.0"
  }
 },
 "nbformat": 4,
 "nbformat_minor": 2
}
